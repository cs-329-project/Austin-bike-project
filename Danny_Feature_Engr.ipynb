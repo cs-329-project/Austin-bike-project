{
 "cells": [
  {
   "cell_type": "code",
   "execution_count": 1,
   "metadata": {},
   "outputs": [],
   "source": [
    "import sklearn as sk\n",
    "import pandas as pd\n",
    "import numpy as np\n",
    "from os import getenv\n",
    "from datetime import datetime\n",
    "from amb_sdk.sdk import DarwinSdk\n",
    "import matplotlib.pyplot as plt\n",
    "\n",
    "%matplotlib inline\n",
    "\n",
    "pd.set_option('display.max_rows', None)\n",
    "pd.set_option('display.max_columns', None)"
   ]
  },
  {
   "cell_type": "code",
   "execution_count": 2,
   "metadata": {},
   "outputs": [],
   "source": [
    "cycle_df = pd.read_csv('./data/Cleaned_Cycle_Trips_Weather_Dates.csv')\n",
    "weather_df = pd.read_csv('./data/austin_weather.csv')"
   ]
  },
  {
   "cell_type": "code",
   "execution_count": 3,
   "metadata": {},
   "outputs": [
    {
     "data": {
      "text/plain": [
       "Unnamed: 0                 int64\n",
       "Trip ID                    int64\n",
       "Membership Type           object\n",
       "Bicycle ID               float64\n",
       "Checkout Date             object\n",
       "Checkout Time             object\n",
       "Checkout Kiosk            object\n",
       "Return Kiosk              object\n",
       "Trip Duration Minutes      int64\n",
       "Month                      int64\n",
       "Year                       int64\n",
       "dtype: object"
      ]
     },
     "execution_count": 3,
     "metadata": {},
     "output_type": "execute_result"
    }
   ],
   "source": [
    "cycle_df.dtypes"
   ]
  },
  {
   "cell_type": "code",
   "execution_count": 7,
   "metadata": {},
   "outputs": [],
   "source": [
    "cycle_df['Checkout Date'] = pd.to_datetime(\n",
    "    cycle_df['Checkout Date'], infer_datetime_format=True\n",
    "    ).dt.normalize() #strftime('%m/%d/%Y') # format='%m/%d/%Y').dt.date\n",
    "\n",
    "cycle_df['Checkout Time'] = pd.to_timedelta(\n",
    "    cycle_df['Checkout Time']) #, format='%H:%M:%S')\\\n",
    "#.dt.strftime('%H:%M') #This turns it back to a object dtype\n",
    "\n",
    "\n",
    "weather_df['Date'] = pd.to_datetime(\n",
    "    weather_df['Date'], infer_datetime_format=True\n",
    "    ).dt.normalize() #strftime('%m/%d/%Y') # format='%m/%d/%Y').dt.date"
   ]
  },
  {
   "cell_type": "code",
   "execution_count": 8,
   "metadata": {},
   "outputs": [
    {
     "data": {
      "text/plain": [
       "Unnamed: 0                         int64\n",
       "Trip ID                            int64\n",
       "Membership Type                   object\n",
       "Bicycle ID                       float64\n",
       "Checkout Date             datetime64[ns]\n",
       "Checkout Time            timedelta64[ns]\n",
       "Checkout Kiosk                    object\n",
       "Return Kiosk                      object\n",
       "Trip Duration Minutes              int64\n",
       "Month                              int64\n",
       "Year                               int64\n",
       "dtype: object"
      ]
     },
     "execution_count": 8,
     "metadata": {},
     "output_type": "execute_result"
    }
   ],
   "source": [
    "cycle_df.dtypes"
   ]
  },
  {
   "cell_type": "code",
   "execution_count": 9,
   "metadata": {},
   "outputs": [
    {
     "name": "stdout",
     "output_type": "stream",
     "text": [
      "Cycle Trips Earliest Data 2013-12-21\n",
      "Cycle Trips Latest Data 2017-07-31\n",
      "Weather Earliest Data 2013-12-21\n",
      "Weather Latest Data 2017-07-31\n"
     ]
    }
   ],
   "source": [
    "print('Cycle Trips Earliest Data',cycle_df['Checkout Date'].dt.date.min())\n",
    "print('Cycle Trips Latest Data',cycle_df['Checkout Date'].dt.date.max())\n",
    "\n",
    "print('Weather Earliest Data',weather_df['Date'].dt.date.min())\n",
    "print('Weather Latest Data',weather_df['Date'].dt.date.max())"
   ]
  },
  {
   "cell_type": "code",
   "execution_count": 17,
   "metadata": {},
   "outputs": [
    {
     "data": {
      "text/plain": [
       "Index(['Trip ID', 'Membership Type', 'Bicycle ID', 'Checkout Date',\n",
       "       'Checkout Time', 'Checkout Kiosk', 'Return Kiosk',\n",
       "       'Trip Duration Minutes', 'Month', 'Year', 'Checkout WeekDay'],\n",
       "      dtype='object')"
      ]
     },
     "execution_count": 17,
     "metadata": {},
     "output_type": "execute_result"
    }
   ],
   "source": [
    "cycle_df['Checkout WeekDay'] = cycle_df['Checkout Date'].dt.day_name()\n",
    "cycle_df.drop('Unnamed: 0', axis=1, inplace=True)\n",
    "weather_df['Weekday'] = weather_df['Date'].dt.day_name()\n"
   ]
  },
  {
   "cell_type": "code",
   "execution_count": 18,
   "metadata": {},
   "outputs": [
    {
     "data": {
      "text/html": [
       "<div>\n",
       "<style scoped>\n",
       "    .dataframe tbody tr th:only-of-type {\n",
       "        vertical-align: middle;\n",
       "    }\n",
       "\n",
       "    .dataframe tbody tr th {\n",
       "        vertical-align: top;\n",
       "    }\n",
       "\n",
       "    .dataframe thead th {\n",
       "        text-align: right;\n",
       "    }\n",
       "</style>\n",
       "<table border=\"1\" class=\"dataframe\">\n",
       "  <thead>\n",
       "    <tr style=\"text-align: right;\">\n",
       "      <th></th>\n",
       "      <th>Trip ID</th>\n",
       "      <th>Membership Type</th>\n",
       "      <th>Bicycle ID</th>\n",
       "      <th>Checkout Date</th>\n",
       "      <th>Checkout Time</th>\n",
       "      <th>Checkout Kiosk</th>\n",
       "      <th>Return Kiosk</th>\n",
       "      <th>Trip Duration Minutes</th>\n",
       "      <th>Month</th>\n",
       "      <th>Year</th>\n",
       "      <th>Checkout WeekDay</th>\n",
       "    </tr>\n",
       "  </thead>\n",
       "  <tbody>\n",
       "    <tr>\n",
       "      <th>0</th>\n",
       "      <td>9900285854</td>\n",
       "      <td>Annual (San Antonio B-cycle)</td>\n",
       "      <td>207.0</td>\n",
       "      <td>2014-10-26</td>\n",
       "      <td>13:12:00</td>\n",
       "      <td>West &amp; 6th St.</td>\n",
       "      <td>Rainey St @ Cummings</td>\n",
       "      <td>76</td>\n",
       "      <td>10</td>\n",
       "      <td>2014</td>\n",
       "      <td>Sunday</td>\n",
       "    </tr>\n",
       "    <tr>\n",
       "      <th>1</th>\n",
       "      <td>9900285855</td>\n",
       "      <td>24-Hour Kiosk (Austin B-cycle)</td>\n",
       "      <td>969.0</td>\n",
       "      <td>2014-10-26</td>\n",
       "      <td>13:12:00</td>\n",
       "      <td>Convention Center / 4th St. @ MetroRail</td>\n",
       "      <td>Pfluger Bridge @ W 2nd Street</td>\n",
       "      <td>58</td>\n",
       "      <td>10</td>\n",
       "      <td>2014</td>\n",
       "      <td>Sunday</td>\n",
       "    </tr>\n",
       "    <tr>\n",
       "      <th>2</th>\n",
       "      <td>9900285856</td>\n",
       "      <td>Annual Membership (Austin B-cycle)</td>\n",
       "      <td>214.0</td>\n",
       "      <td>2014-10-26</td>\n",
       "      <td>13:12:00</td>\n",
       "      <td>West &amp; 6th St.</td>\n",
       "      <td>8th &amp; Congress</td>\n",
       "      <td>8</td>\n",
       "      <td>10</td>\n",
       "      <td>2014</td>\n",
       "      <td>Sunday</td>\n",
       "    </tr>\n",
       "    <tr>\n",
       "      <th>3</th>\n",
       "      <td>9900285857</td>\n",
       "      <td>24-Hour Kiosk (Austin B-cycle)</td>\n",
       "      <td>745.0</td>\n",
       "      <td>2014-10-26</td>\n",
       "      <td>13:12:00</td>\n",
       "      <td>Zilker Park at Barton Springs &amp; William Barton...</td>\n",
       "      <td>Zilker Park at Barton Springs &amp; William Barton...</td>\n",
       "      <td>28</td>\n",
       "      <td>10</td>\n",
       "      <td>2014</td>\n",
       "      <td>Sunday</td>\n",
       "    </tr>\n",
       "    <tr>\n",
       "      <th>4</th>\n",
       "      <td>9900285858</td>\n",
       "      <td>24-Hour Kiosk (Austin B-cycle)</td>\n",
       "      <td>164.0</td>\n",
       "      <td>2014-10-26</td>\n",
       "      <td>13:12:00</td>\n",
       "      <td>Bullock Museum @ Congress &amp; MLK</td>\n",
       "      <td>Convention Center/ 3rd &amp; Trinity</td>\n",
       "      <td>15</td>\n",
       "      <td>10</td>\n",
       "      <td>2014</td>\n",
       "      <td>Sunday</td>\n",
       "    </tr>\n",
       "  </tbody>\n",
       "</table>\n",
       "</div>"
      ],
      "text/plain": [
       "      Trip ID                     Membership Type  Bicycle ID Checkout Date  \\\n",
       "0  9900285854        Annual (San Antonio B-cycle)       207.0    2014-10-26   \n",
       "1  9900285855      24-Hour Kiosk (Austin B-cycle)       969.0    2014-10-26   \n",
       "2  9900285856  Annual Membership (Austin B-cycle)       214.0    2014-10-26   \n",
       "3  9900285857      24-Hour Kiosk (Austin B-cycle)       745.0    2014-10-26   \n",
       "4  9900285858      24-Hour Kiosk (Austin B-cycle)       164.0    2014-10-26   \n",
       "\n",
       "  Checkout Time                                     Checkout Kiosk  \\\n",
       "0      13:12:00                                     West & 6th St.   \n",
       "1      13:12:00            Convention Center / 4th St. @ MetroRail   \n",
       "2      13:12:00                                     West & 6th St.   \n",
       "3      13:12:00  Zilker Park at Barton Springs & William Barton...   \n",
       "4      13:12:00                    Bullock Museum @ Congress & MLK   \n",
       "\n",
       "                                        Return Kiosk  Trip Duration Minutes  \\\n",
       "0                               Rainey St @ Cummings                     76   \n",
       "1                      Pfluger Bridge @ W 2nd Street                     58   \n",
       "2                                     8th & Congress                      8   \n",
       "3  Zilker Park at Barton Springs & William Barton...                     28   \n",
       "4                   Convention Center/ 3rd & Trinity                     15   \n",
       "\n",
       "   Month  Year Checkout WeekDay  \n",
       "0     10  2014           Sunday  \n",
       "1     10  2014           Sunday  \n",
       "2     10  2014           Sunday  \n",
       "3     10  2014           Sunday  \n",
       "4     10  2014           Sunday  "
      ]
     },
     "execution_count": 18,
     "metadata": {},
     "output_type": "execute_result"
    }
   ],
   "source": [
    "cycle_df.head()"
   ]
  },
  {
   "cell_type": "code",
   "execution_count": null,
   "metadata": {},
   "outputs": [],
   "source": []
  }
 ],
 "metadata": {
  "kernelspec": {
   "display_name": "CS_329E",
   "language": "python",
   "name": "cs_329e"
  },
  "language_info": {
   "codemirror_mode": {
    "name": "ipython",
    "version": 3
   },
   "file_extension": ".py",
   "mimetype": "text/x-python",
   "name": "python",
   "nbconvert_exporter": "python",
   "pygments_lexer": "ipython3",
   "version": "3.7.2"
  }
 },
 "nbformat": 4,
 "nbformat_minor": 2
}
