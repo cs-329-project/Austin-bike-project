{
 "cells": [
  {
   "cell_type": "code",
   "execution_count": 1,
   "metadata": {},
   "outputs": [],
   "source": [
    "from IPython.display import Image\n",
    "from time import sleep\n",
    "from sklearn.metrics import r2_score\n",
    "from datetime import datetime\n",
    "\n",
    "import pandas as pd\n",
    "import matplotlib.pyplot as plt\n",
    "%matplotlib inline\n",
    "ts = '{:%Y%m%d%H%M%S}'.format(datetime.now())"
   ]
  },
  {
   "cell_type": "code",
   "execution_count": 2,
   "metadata": {},
   "outputs": [
    {
     "name": "stdout",
     "output_type": "stream",
     "text": [
      "You are logged in.\n"
     ]
    }
   ],
   "source": [
    "from amb_sdk.sdk import DarwinSdk\n",
    "ds = DarwinSdk()\n",
    "ds.set_url('https://amb-demo-api.sparkcognition.com/v1/')\n",
    "\n",
    "status, msg = ds.auth_login_user('nathanalvarezolson@utexas.edu', 'Hmy35qPZM4')\n",
    "print('You are logged in.' if status else msg)"
   ]
  },
  {
   "cell_type": "code",
   "execution_count": null,
   "metadata": {},
   "outputs": [],
   "source": [
    "# ds.get_info()\n",
    "# ds.lookup_job_status()\n",
    "# ds.lookup_job_status_name(job_name)\n",
    "# ds.delete_job(job_name)\n",
    "# ds.stop_job(job_name) \n"
   ]
  },
  {
   "cell_type": "markdown",
   "metadata": {},
   "source": [
    "# Data Upload\n",
    "**Read dataset and view a file snippet**"
   ]
  },
  {
   "cell_type": "code",
   "execution_count": 3,
   "metadata": {},
   "outputs": [
    {
     "data": {
      "text/html": [
       "<div>\n",
       "<style scoped>\n",
       "    .dataframe tbody tr th:only-of-type {\n",
       "        vertical-align: middle;\n",
       "    }\n",
       "\n",
       "    .dataframe tbody tr th {\n",
       "        vertical-align: top;\n",
       "    }\n",
       "\n",
       "    .dataframe thead th {\n",
       "        text-align: right;\n",
       "    }\n",
       "</style>\n",
       "<table border=\"1\" class=\"dataframe\">\n",
       "  <thead>\n",
       "    <tr style=\"text-align: right;\">\n",
       "      <th></th>\n",
       "      <th>Date</th>\n",
       "      <th>Month</th>\n",
       "      <th>Year</th>\n",
       "      <th>Weekday</th>\n",
       "      <th>Avg Trip Duration</th>\n",
       "      <th>Total Rides</th>\n",
       "      <th>TempHighF</th>\n",
       "      <th>TempAvgF</th>\n",
       "      <th>DewPointHighF</th>\n",
       "      <th>DewPointAvgF</th>\n",
       "      <th>WindHighMPH</th>\n",
       "      <th>WindAvgMPH</th>\n",
       "      <th>PrecipitationSumInches</th>\n",
       "      <th>Events</th>\n",
       "      <th>PrecipBins</th>\n",
       "    </tr>\n",
       "  </thead>\n",
       "  <tbody>\n",
       "    <tr>\n",
       "      <th>0</th>\n",
       "      <td>2013-12-21</td>\n",
       "      <td>12</td>\n",
       "      <td>2013</td>\n",
       "      <td>5</td>\n",
       "      <td>29.136</td>\n",
       "      <td>103</td>\n",
       "      <td>74</td>\n",
       "      <td>60</td>\n",
       "      <td>67</td>\n",
       "      <td>49</td>\n",
       "      <td>20</td>\n",
       "      <td>4</td>\n",
       "      <td>0.460</td>\n",
       "      <td>Rain , Thunderstorm</td>\n",
       "      <td>0.1-0.5</td>\n",
       "    </tr>\n",
       "    <tr>\n",
       "      <th>1</th>\n",
       "      <td>2013-12-22</td>\n",
       "      <td>12</td>\n",
       "      <td>2013</td>\n",
       "      <td>6</td>\n",
       "      <td>40.462</td>\n",
       "      <td>117</td>\n",
       "      <td>56</td>\n",
       "      <td>48</td>\n",
       "      <td>43</td>\n",
       "      <td>36</td>\n",
       "      <td>16</td>\n",
       "      <td>6</td>\n",
       "      <td>0.000</td>\n",
       "      <td>Sunny</td>\n",
       "      <td>0</td>\n",
       "    </tr>\n",
       "    <tr>\n",
       "      <th>2</th>\n",
       "      <td>2013-12-23</td>\n",
       "      <td>12</td>\n",
       "      <td>2013</td>\n",
       "      <td>0</td>\n",
       "      <td>55.604</td>\n",
       "      <td>96</td>\n",
       "      <td>58</td>\n",
       "      <td>45</td>\n",
       "      <td>31</td>\n",
       "      <td>27</td>\n",
       "      <td>8</td>\n",
       "      <td>3</td>\n",
       "      <td>0.000</td>\n",
       "      <td>Sunny</td>\n",
       "      <td>0</td>\n",
       "    </tr>\n",
       "    <tr>\n",
       "      <th>3</th>\n",
       "      <td>2013-12-24</td>\n",
       "      <td>12</td>\n",
       "      <td>2013</td>\n",
       "      <td>1</td>\n",
       "      <td>31.965</td>\n",
       "      <td>85</td>\n",
       "      <td>61</td>\n",
       "      <td>46</td>\n",
       "      <td>36</td>\n",
       "      <td>28</td>\n",
       "      <td>12</td>\n",
       "      <td>4</td>\n",
       "      <td>0.000</td>\n",
       "      <td>Sunny</td>\n",
       "      <td>0</td>\n",
       "    </tr>\n",
       "    <tr>\n",
       "      <th>4</th>\n",
       "      <td>2013-12-25</td>\n",
       "      <td>12</td>\n",
       "      <td>2013</td>\n",
       "      <td>2</td>\n",
       "      <td>49.297</td>\n",
       "      <td>145</td>\n",
       "      <td>58</td>\n",
       "      <td>50</td>\n",
       "      <td>44</td>\n",
       "      <td>40</td>\n",
       "      <td>10</td>\n",
       "      <td>2</td>\n",
       "      <td>0.005</td>\n",
       "      <td>Sunny</td>\n",
       "      <td>0.1-0.5</td>\n",
       "    </tr>\n",
       "  </tbody>\n",
       "</table>\n",
       "</div>"
      ],
      "text/plain": [
       "         Date  Month  Year  Weekday  Avg Trip Duration  Total Rides  \\\n",
       "0  2013-12-21     12  2013        5             29.136          103   \n",
       "1  2013-12-22     12  2013        6             40.462          117   \n",
       "2  2013-12-23     12  2013        0             55.604           96   \n",
       "3  2013-12-24     12  2013        1             31.965           85   \n",
       "4  2013-12-25     12  2013        2             49.297          145   \n",
       "\n",
       "   TempHighF  TempAvgF  DewPointHighF  DewPointAvgF  WindHighMPH  WindAvgMPH  \\\n",
       "0         74        60             67            49           20           4   \n",
       "1         56        48             43            36           16           6   \n",
       "2         58        45             31            27            8           3   \n",
       "3         61        46             36            28           12           4   \n",
       "4         58        50             44            40           10           2   \n",
       "\n",
       "   PrecipitationSumInches               Events PrecipBins  \n",
       "0                   0.460  Rain , Thunderstorm    0.1-0.5  \n",
       "1                   0.000                Sunny          0  \n",
       "2                   0.000                Sunny          0  \n",
       "3                   0.000                Sunny          0  \n",
       "4                   0.005                Sunny    0.1-0.5  "
      ]
     },
     "execution_count": 3,
     "metadata": {},
     "output_type": "execute_result"
    }
   ],
   "source": [
    "DATASET_NAME = 'cycle_weather_by_day_with_avgs_no_mode.csv'\n",
    "\n",
    "df = pd.read_csv('./data/'+ DATASET_NAME)\n",
    "#print(df.dtypes)\n",
    "df.head()"
   ]
  },
  {
   "cell_type": "code",
   "execution_count": 4,
   "metadata": {},
   "outputs": [
    {
     "data": {
      "text/html": [
       "<div>\n",
       "<style scoped>\n",
       "    .dataframe tbody tr th:only-of-type {\n",
       "        vertical-align: middle;\n",
       "    }\n",
       "\n",
       "    .dataframe tbody tr th {\n",
       "        vertical-align: top;\n",
       "    }\n",
       "\n",
       "    .dataframe thead th {\n",
       "        text-align: right;\n",
       "    }\n",
       "</style>\n",
       "<table border=\"1\" class=\"dataframe\">\n",
       "  <thead>\n",
       "    <tr style=\"text-align: right;\">\n",
       "      <th></th>\n",
       "      <th>Date</th>\n",
       "      <th>Month</th>\n",
       "      <th>Year</th>\n",
       "      <th>Weekday</th>\n",
       "      <th>Avg Trip Duration</th>\n",
       "      <th>Total Rides</th>\n",
       "      <th>TempHighF</th>\n",
       "      <th>TempAvgF</th>\n",
       "      <th>DewPointHighF</th>\n",
       "      <th>DewPointAvgF</th>\n",
       "      <th>WindHighMPH</th>\n",
       "      <th>WindAvgMPH</th>\n",
       "      <th>PrecipitationSumInches</th>\n",
       "      <th>Events</th>\n",
       "      <th>PrecipBins</th>\n",
       "    </tr>\n",
       "  </thead>\n",
       "  <tbody>\n",
       "    <tr>\n",
       "      <th>0</th>\n",
       "      <td>2013-12-21</td>\n",
       "      <td>12</td>\n",
       "      <td>2013</td>\n",
       "      <td>5</td>\n",
       "      <td>29.136</td>\n",
       "      <td>103</td>\n",
       "      <td>74</td>\n",
       "      <td>60</td>\n",
       "      <td>67</td>\n",
       "      <td>49</td>\n",
       "      <td>20</td>\n",
       "      <td>4</td>\n",
       "      <td>0.460</td>\n",
       "      <td>Rain , Thunderstorm</td>\n",
       "      <td>0.1-0.5</td>\n",
       "    </tr>\n",
       "    <tr>\n",
       "      <th>1</th>\n",
       "      <td>2013-12-22</td>\n",
       "      <td>12</td>\n",
       "      <td>2013</td>\n",
       "      <td>6</td>\n",
       "      <td>40.462</td>\n",
       "      <td>117</td>\n",
       "      <td>56</td>\n",
       "      <td>48</td>\n",
       "      <td>43</td>\n",
       "      <td>36</td>\n",
       "      <td>16</td>\n",
       "      <td>6</td>\n",
       "      <td>0.000</td>\n",
       "      <td>Sunny</td>\n",
       "      <td>0</td>\n",
       "    </tr>\n",
       "    <tr>\n",
       "      <th>2</th>\n",
       "      <td>2013-12-23</td>\n",
       "      <td>12</td>\n",
       "      <td>2013</td>\n",
       "      <td>0</td>\n",
       "      <td>55.604</td>\n",
       "      <td>96</td>\n",
       "      <td>58</td>\n",
       "      <td>45</td>\n",
       "      <td>31</td>\n",
       "      <td>27</td>\n",
       "      <td>8</td>\n",
       "      <td>3</td>\n",
       "      <td>0.000</td>\n",
       "      <td>Sunny</td>\n",
       "      <td>0</td>\n",
       "    </tr>\n",
       "    <tr>\n",
       "      <th>3</th>\n",
       "      <td>2013-12-24</td>\n",
       "      <td>12</td>\n",
       "      <td>2013</td>\n",
       "      <td>1</td>\n",
       "      <td>31.965</td>\n",
       "      <td>85</td>\n",
       "      <td>61</td>\n",
       "      <td>46</td>\n",
       "      <td>36</td>\n",
       "      <td>28</td>\n",
       "      <td>12</td>\n",
       "      <td>4</td>\n",
       "      <td>0.000</td>\n",
       "      <td>Sunny</td>\n",
       "      <td>0</td>\n",
       "    </tr>\n",
       "    <tr>\n",
       "      <th>4</th>\n",
       "      <td>2013-12-25</td>\n",
       "      <td>12</td>\n",
       "      <td>2013</td>\n",
       "      <td>2</td>\n",
       "      <td>49.297</td>\n",
       "      <td>145</td>\n",
       "      <td>58</td>\n",
       "      <td>50</td>\n",
       "      <td>44</td>\n",
       "      <td>40</td>\n",
       "      <td>10</td>\n",
       "      <td>2</td>\n",
       "      <td>0.005</td>\n",
       "      <td>Sunny</td>\n",
       "      <td>0.1-0.5</td>\n",
       "    </tr>\n",
       "  </tbody>\n",
       "</table>\n",
       "</div>"
      ],
      "text/plain": [
       "         Date  Month  Year  Weekday  Avg Trip Duration  Total Rides  \\\n",
       "0  2013-12-21     12  2013        5             29.136          103   \n",
       "1  2013-12-22     12  2013        6             40.462          117   \n",
       "2  2013-12-23     12  2013        0             55.604           96   \n",
       "3  2013-12-24     12  2013        1             31.965           85   \n",
       "4  2013-12-25     12  2013        2             49.297          145   \n",
       "\n",
       "   TempHighF  TempAvgF  DewPointHighF  DewPointAvgF  WindHighMPH  WindAvgMPH  \\\n",
       "0         74        60             67            49           20           4   \n",
       "1         56        48             43            36           16           6   \n",
       "2         58        45             31            27            8           3   \n",
       "3         61        46             36            28           12           4   \n",
       "4         58        50             44            40           10           2   \n",
       "\n",
       "   PrecipitationSumInches               Events PrecipBins  \n",
       "0                   0.460  Rain , Thunderstorm    0.1-0.5  \n",
       "1                   0.000                Sunny          0  \n",
       "2                   0.000                Sunny          0  \n",
       "3                   0.000                Sunny          0  \n",
       "4                   0.005                Sunny    0.1-0.5  "
      ]
     },
     "execution_count": 4,
     "metadata": {},
     "output_type": "execute_result"
    }
   ],
   "source": [
    "df = df[df['Avg Trip Duration'] <= 60]\n",
    "\n",
    "df.head()"
   ]
  },
  {
   "cell_type": "code",
   "execution_count": 5,
   "metadata": {},
   "outputs": [],
   "source": [
    "df.to_csv('./data/' + 'cycle_weather_by_day_with_avgs_no_mode_trimmed.csv', index = False)"
   ]
  },
  {
   "cell_type": "markdown",
   "metadata": {},
   "source": [
    "**Upload dataset to Darwin**"
   ]
  },
  {
   "cell_type": "code",
   "execution_count": 6,
   "metadata": {},
   "outputs": [
    {
     "name": "stdout",
     "output_type": "stream",
     "text": [
      "400: BAD REQUEST - {\"message\": \"Dataset already exists\"}\n",
      "\n"
     ]
    }
   ],
   "source": [
    "#df.drop(columns='Avg Mode Trip Duration', inplace = True)\n",
    "DATASET_NAME = 'cycle_weather_by_day_with_avgs_no_mode_trimmed.csv'\n",
    "status, dataset = ds.upload_dataset('./data/'+ DATASET_NAME)\n",
    "if not status:\n",
    "    print(dataset)"
   ]
  },
  {
   "cell_type": "markdown",
   "metadata": {},
   "source": [
    "   # Clean Data"
   ]
  },
  {
   "cell_type": "code",
   "execution_count": 7,
   "metadata": {},
   "outputs": [
    {
     "name": "stdout",
     "output_type": "stream",
     "text": [
      "{'status': 'Requested', 'starttime': '2019-04-21T17:09:43.30481', 'endtime': None, 'percent_complete': 0, 'job_type': 'CleanDataTiny', 'loss': None, 'generations': None, 'dataset_names': ['cycle_weather_by_day_with_avgs_no_mode_trimmed.csv'], 'artifact_names': ['d35ab6ae2fe04ec2bf37e68e45111c0f'], 'model_name': None, 'job_error': None}\n",
      "{'status': 'Complete', 'starttime': '2019-04-21T17:09:43.30481', 'endtime': '2019-04-21T17:09:45.906702', 'percent_complete': 100, 'job_type': 'CleanDataTiny', 'loss': None, 'generations': None, 'dataset_names': ['cycle_weather_by_day_with_avgs_no_mode_trimmed.csv'], 'artifact_names': ['d35ab6ae2fe04ec2bf37e68e45111c0f'], 'model_name': None, 'job_error': ''}\n",
      "\n",
      "Data has been successfully cleaned!\n"
     ]
    }
   ],
   "source": [
    "target = 'Avg Trip Duration'\n",
    "status, job_id = ds.clean_data(dataset_name=DATASET_NAME, \n",
    "                               target= target)\n",
    "if not status:\n",
    "    print(job_id)\n",
    "else:\n",
    "    ds.wait_for_job(job_id['job_name'])\n",
    "    print('\\nData has been successfully cleaned!')"
   ]
  },
  {
   "cell_type": "markdown",
   "metadata": {},
   "source": [
    "# Create and Train Model"
   ]
  },
  {
   "cell_type": "markdown",
   "metadata": {},
   "source": [
    "We will now build a model that will learn the class labels in the target column.<br> In the default boston dataset, the target column is \"Assessed_Value\". <br> You will have to specify your own target name for your custom dataset. <br> You can also increase max_train_time for longer training.\n",
    "\n",
    "\n"
   ]
  },
  {
   "cell_type": "code",
   "execution_count": 10,
   "metadata": {},
   "outputs": [
    {
     "name": "stdout",
     "output_type": "stream",
     "text": [
      "{'status': 'Running', 'starttime': '2019-04-21T17:10:45.968254', 'endtime': None, 'percent_complete': 0, 'job_type': 'TrainModel', 'loss': None, 'generations': 0, 'dataset_names': ['cycle_weather_by_day_with_avgs_no_mode_trimmed.csv'], 'artifact_names': None, 'model_name': 'Avg Trip Duration_model020190421170924', 'job_error': ''}\n",
      "{'status': 'Running', 'starttime': '2019-04-21T17:10:45.968254', 'endtime': None, 'percent_complete': 1, 'job_type': 'TrainModel', 'loss': 0.43536823987960815, 'generations': 2, 'dataset_names': ['cycle_weather_by_day_with_avgs_no_mode_trimmed.csv'], 'artifact_names': None, 'model_name': 'Avg Trip Duration_model020190421170924', 'job_error': ''}\n",
      "{'status': 'Running', 'starttime': '2019-04-21T17:10:45.968254', 'endtime': None, 'percent_complete': 1, 'job_type': 'TrainModel', 'loss': 0.43536823987960815, 'generations': 2, 'dataset_names': ['cycle_weather_by_day_with_avgs_no_mode_trimmed.csv'], 'artifact_names': None, 'model_name': 'Avg Trip Duration_model020190421170924', 'job_error': ''}\n",
      "{'status': 'Running', 'starttime': '2019-04-21T17:10:45.968254', 'endtime': None, 'percent_complete': 1, 'job_type': 'TrainModel', 'loss': 0.43536823987960815, 'generations': 2, 'dataset_names': ['cycle_weather_by_day_with_avgs_no_mode_trimmed.csv'], 'artifact_names': None, 'model_name': 'Avg Trip Duration_model020190421170924', 'job_error': ''}\n",
      "{'status': 'Running', 'starttime': '2019-04-21T17:10:45.968254', 'endtime': None, 'percent_complete': 1, 'job_type': 'TrainModel', 'loss': 0.43536823987960815, 'generations': 2, 'dataset_names': ['cycle_weather_by_day_with_avgs_no_mode_trimmed.csv'], 'artifact_names': None, 'model_name': 'Avg Trip Duration_model020190421170924', 'job_error': ''}\n",
      "{'status': 'Running', 'starttime': '2019-04-21T17:10:45.968254', 'endtime': None, 'percent_complete': 1, 'job_type': 'TrainModel', 'loss': 0.43536823987960815, 'generations': 2, 'dataset_names': ['cycle_weather_by_day_with_avgs_no_mode_trimmed.csv'], 'artifact_names': None, 'model_name': 'Avg Trip Duration_model020190421170924', 'job_error': ''}\n",
      "{'status': 'Running', 'starttime': '2019-04-21T17:10:45.968254', 'endtime': None, 'percent_complete': 1, 'job_type': 'TrainModel', 'loss': 0.43536823987960815, 'generations': 2, 'dataset_names': ['cycle_weather_by_day_with_avgs_no_mode_trimmed.csv'], 'artifact_names': None, 'model_name': 'Avg Trip Duration_model020190421170924', 'job_error': ''}\n",
      "{'status': 'Running', 'starttime': '2019-04-21T17:10:45.968254', 'endtime': None, 'percent_complete': 33, 'job_type': 'TrainModel', 'loss': 0.43536823987960815, 'generations': 2, 'dataset_names': ['cycle_weather_by_day_with_avgs_no_mode_trimmed.csv'], 'artifact_names': None, 'model_name': 'Avg Trip Duration_model020190421170924', 'job_error': ''}\n",
      "{'status': 'Running', 'starttime': '2019-04-21T17:10:45.968254', 'endtime': None, 'percent_complete': 33, 'job_type': 'TrainModel', 'loss': 0.43536823987960815, 'generations': 2, 'dataset_names': ['cycle_weather_by_day_with_avgs_no_mode_trimmed.csv'], 'artifact_names': None, 'model_name': 'Avg Trip Duration_model020190421170924', 'job_error': ''}\n",
      "{'status': 'Running', 'starttime': '2019-04-21T17:10:45.968254', 'endtime': None, 'percent_complete': 33, 'job_type': 'TrainModel', 'loss': 0.43536823987960815, 'generations': 2, 'dataset_names': ['cycle_weather_by_day_with_avgs_no_mode_trimmed.csv'], 'artifact_names': None, 'model_name': 'Avg Trip Duration_model020190421170924', 'job_error': ''}\n",
      "{'status': 'Running', 'starttime': '2019-04-21T17:10:45.968254', 'endtime': None, 'percent_complete': 33, 'job_type': 'TrainModel', 'loss': 0.43536823987960815, 'generations': 2, 'dataset_names': ['cycle_weather_by_day_with_avgs_no_mode_trimmed.csv'], 'artifact_names': None, 'model_name': 'Avg Trip Duration_model020190421170924', 'job_error': ''}\n",
      "{'status': 'Running', 'starttime': '2019-04-21T17:10:45.968254', 'endtime': None, 'percent_complete': 50, 'job_type': 'TrainModel', 'loss': 0.43536823987960815, 'generations': 2, 'dataset_names': ['cycle_weather_by_day_with_avgs_no_mode_trimmed.csv'], 'artifact_names': None, 'model_name': 'Avg Trip Duration_model020190421170924', 'job_error': ''}\n",
      "{'status': 'Running', 'starttime': '2019-04-21T17:10:45.968254', 'endtime': None, 'percent_complete': 50, 'job_type': 'TrainModel', 'loss': 0.43536823987960815, 'generations': 2, 'dataset_names': ['cycle_weather_by_day_with_avgs_no_mode_trimmed.csv'], 'artifact_names': None, 'model_name': 'Avg Trip Duration_model020190421170924', 'job_error': ''}\n",
      "{'status': 'Complete', 'starttime': '2019-04-21T17:10:45.968254', 'endtime': '2019-04-21T17:13:57.44928', 'percent_complete': 100, 'job_type': 'TrainModel', 'loss': 0.43536823987960815, 'generations': 2, 'dataset_names': ['cycle_weather_by_day_with_avgs_no_mode_trimmed.csv'], 'artifact_names': None, 'model_name': 'Avg Trip Duration_model020190421170924', 'job_error': ''}\n"
     ]
    }
   ],
   "source": [
    "model = target + \"_model0\" + ts\n",
    "status, job_id = ds.create_model(dataset_names = DATASET_NAME, \\\n",
    "                                 model_name =  model, \\\n",
    "                                 max_train_time = '00:03')\n",
    "if status:\n",
    "    ds.wait_for_job(job_id['job_name'])\n",
    "else:\n",
    "    print(job_id)"
   ]
  },
  {
   "cell_type": "markdown",
   "metadata": {},
   "source": [
    "# Analyze Model\n",
    "Analyze model provides feature importance ranked by the model. <br> It indicates a general view of which features pose a bigger impact on the model"
   ]
  },
  {
   "cell_type": "code",
   "execution_count": 11,
   "metadata": {},
   "outputs": [
    {
     "name": "stdout",
     "output_type": "stream",
     "text": [
      "{'status': 'Complete', 'starttime': '2019-04-21T17:15:02.212984', 'endtime': '2019-04-21T17:15:03.511079', 'percent_complete': 100, 'job_type': 'AnalyzeModel', 'loss': 0.43536823987960815, 'generations': 2, 'dataset_names': None, 'artifact_names': ['860931f9496744d6990022289b462fa9'], 'model_name': 'Avg Trip Duration_model020190421170924', 'job_error': ''}\n"
     ]
    }
   ],
   "source": [
    "# Retrieve feature importance of built model\n",
    "status, artifact = ds.analyze_model(model)\n",
    "sleep(1)\n",
    "if status:\n",
    "    ds.wait_for_job(artifact['job_name'])\n",
    "else:\n",
    "    print(artifact)\n",
    "status, feature_importance = ds.download_artifact(artifact['artifact_name'])"
   ]
  },
  {
   "cell_type": "markdown",
   "metadata": {},
   "source": [
    "Show the 10 most important features of the model."
   ]
  },
  {
   "cell_type": "code",
   "execution_count": 12,
   "metadata": {},
   "outputs": [
    {
     "data": {
      "text/plain": [
       "Total Rides    0.407303\n",
       "Weekday = 6    0.170899\n",
       "TempHighF      0.112916\n",
       "Weekday = 5    0.102675\n",
       "TempAvgF       0.033288\n",
       "Year = 2015    0.029586\n",
       "Weekday = 4    0.018195\n",
       "WindHighMPH    0.012078\n",
       "Month = 5      0.011473\n",
       "Month = 4      0.011294\n",
       "dtype: float64"
      ]
     },
     "execution_count": 12,
     "metadata": {},
     "output_type": "execute_result"
    }
   ],
   "source": [
    "feature_importance[:10]"
   ]
  },
  {
   "cell_type": "markdown",
   "metadata": {},
   "source": [
    "# Predictions\n",
    "**Perform model prediction on the the training dataset.**"
   ]
  },
  {
   "cell_type": "code",
   "execution_count": 13,
   "metadata": {},
   "outputs": [
    {
     "name": "stdout",
     "output_type": "stream",
     "text": [
      "{'status': 'Complete', 'starttime': '2019-04-21T17:15:22.107082', 'endtime': '2019-04-21T17:15:22.931759', 'percent_complete': 100, 'job_type': 'RunModel', 'loss': 0.43536823987960815, 'generations': 2, 'dataset_names': ['cycle_weather_by_day_with_avgs_no_mode_trimmed.csv'], 'artifact_names': ['78e3b17ceca34c178ab1e6270808be3c'], 'model_name': 'Avg Trip Duration_model020190421170924', 'job_error': ''}\n"
     ]
    },
    {
     "data": {
      "text/plain": [
       "(True, 'Job completed')"
      ]
     },
     "execution_count": 13,
     "metadata": {},
     "output_type": "execute_result"
    }
   ],
   "source": [
    "status, artifact = ds.run_model(DATASET_NAME, model)\n",
    "sleep(1)\n",
    "ds.wait_for_job(artifact['job_name'])"
   ]
  },
  {
   "cell_type": "markdown",
   "metadata": {},
   "source": [
    "Download predictions from Darwin's server."
   ]
  },
  {
   "cell_type": "code",
   "execution_count": 14,
   "metadata": {},
   "outputs": [],
   "source": [
    "status, prediction = ds.download_artifact(artifact['artifact_name'])"
   ]
  },
  {
   "cell_type": "code",
   "execution_count": null,
   "metadata": {},
   "outputs": [],
   "source": [
    "df.head()"
   ]
  },
  {
   "cell_type": "markdown",
   "metadata": {},
   "source": [
    "Create plots comparing predictions with actual target"
   ]
  },
  {
   "cell_type": "code",
   "execution_count": 15,
   "metadata": {},
   "outputs": [
    {
     "name": "stdout",
     "output_type": "stream",
     "text": [
      "R^2 :  0.6383875831312176\n"
     ]
    },
    {
     "data": {
      "image/png": "[encoded data removed]",
      "text/plain": [
       "<Figure size 432x288 with 1 Axes>"
      ]
     },
     "metadata": {
      "needs_background": "light"
     },
     "output_type": "display_data"
    }
   ],
   "source": [
    "#Plot predictions vs actual\n",
    "plt.plot(df[target], prediction[target], '.')\n",
    "plt.plot([0,75],[0,75],'--k')\n",
    "print('R^2 : ', r2_score(df[target], prediction[target]))"
   ]
  },
  {
   "cell_type": "code",
   "execution_count": 16,
   "metadata": {},
   "outputs": [
    {
     "name": "stdout",
     "output_type": "stream",
     "text": [
      "{'type': 'XGBRegressor', 'parameters': {'base_score': 0.5, 'colsample_bylevel': 1, 'colsample_bytree': 1, 'gamma': 0, 'learning_rate': 0.1, 'max_delta_step': 0, 'max_depth': 3, 'min_child_weight': 1, 'n_estimators': 100, 'n_jobs': -1, 'reg_alpha': 0, 'reg_lambda': 1, 'scale_pos_weight': 1, 'subsample': 1.0}}\n"
     ]
    }
   ],
   "source": [
    "status, model_type = ds.lookup_model_name(model)\n",
    "print(model_type['description']['best_genome'])"
   ]
  },
  {
   "cell_type": "code",
   "execution_count": null,
   "metadata": {},
   "outputs": [],
   "source": [
    "ds.lookup_job_status_name(analyze_id['job_name'])"
   ]
  },
  {
   "cell_type": "code",
   "execution_count": 9,
   "metadata": {},
   "outputs": [
    {
     "data": {
      "text/plain": [
       "(True, None)"
      ]
     },
     "execution_count": 9,
     "metadata": {},
     "output_type": "execute_result"
    }
   ],
   "source": [
    "ds.delete_model(model)"
   ]
  },
  {
   "cell_type": "code",
   "execution_count": null,
   "metadata": {},
   "outputs": [],
   "source": []
  }
 ],
 "metadata": {
  "kernelspec": {
   "display_name": "Python 3",
   "language": "python",
   "name": "python3"
  },
  "language_info": {
   "codemirror_mode": {
    "name": "ipython",
    "version": 3
   },
   "file_extension": ".py",
   "mimetype": "text/x-python",
   "name": "python",
   "nbconvert_exporter": "python",
   "pygments_lexer": "ipython3",
   "version": "3.7.1"
  }
 },
 "nbformat": 4,
 "nbformat_minor": 2
}
