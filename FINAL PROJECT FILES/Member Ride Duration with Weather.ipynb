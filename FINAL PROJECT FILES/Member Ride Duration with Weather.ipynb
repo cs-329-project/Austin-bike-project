{
 "cells": [
  {
   "cell_type": "markdown",
   "metadata": {},
   "source": [
    "# Predict Ride Duration \n",
    "\n",
    "from member type, weather (temp, rain), can we predict the duration \n",
    "- in the csv: group by day, group by member type \n",
    "\n"
   ]
  },
  {
   "cell_type": "code",
   "execution_count": 2,
   "metadata": {},
   "outputs": [],
   "source": [
    "import warnings\n",
    "warnings.simplefilter(\"ignore\")\n",
    "import pandas as pd\n",
    "import numpy as np\n",
    "import sklearn as sk\n",
    "import matplotlib.pyplot as plt\n",
    "import dateutil \n",
    "import scipy \n",
    "from scipy import stats\n",
    "import datetime\n",
    "import random as rand\n",
    "import itertools as it\n",
    "\n",
    "from scipy.cluster import hierarchy as hier\n",
    "from scipy.cluster.hierarchy import dendrogram, linkage\n",
    "from scipy.spatial.distance import pdist\n",
    "\n",
    "from sklearn import preprocessing\n",
    "from sklearn.preprocessing import StandardScaler, RobustScaler\n",
    "from sklearn.decomposition import PCA\n",
    "from sklearn.manifold import MDS\n",
    "from sklearn.cluster import KMeans, AgglomerativeClustering, DBSCAN\n",
    "from sklearn.neighbors import NearestNeighbors\n",
    "from sklearn.metrics import accuracy_score, silhouette_score\n",
    "from sklearn.model_selection import StratifiedKFold\n",
    "\n",
    "%matplotlib inline "
   ]
  },
  {
   "cell_type": "markdown",
   "metadata": {},
   "source": [
    "# Read each csv file's data\n",
    "# Create usable dataset \n",
    "\n",
    "This section creates a dataset that combines the B-Cycle and Weather datasets \n"
   ]
  },
  {
   "cell_type": "code",
   "execution_count": 3,
   "metadata": {},
   "outputs": [],
   "source": [
    "# # read BCycle csv data \n",
    "\n",
    "# bike = pd.read_csv(\"truncated relabeled member type.csv\")\n",
    "# bike['Checkout Date']= pd.to_datetime(bike['Checkout Date'])\n",
    "# bike['Checkout Date'] = bike['Checkout Date'].dt.strftime('%Y/%m/%d')\n",
    "\n",
    "# print(bike.shape)\n",
    "# bike.head(5)\n",
    "# bike.to_csv (r'C:\\Users\\Rohan Chaudhry\\Desktop\\bike_use.csv', index = None, header=True) "
   ]
  },
  {
   "cell_type": "code",
   "execution_count": 4,
   "metadata": {},
   "outputs": [
    {
     "data": {
      "text/html": [
       "<div>\n",
       "<style scoped>\n",
       "    .dataframe tbody tr th:only-of-type {\n",
       "        vertical-align: middle;\n",
       "    }\n",
       "\n",
       "    .dataframe tbody tr th {\n",
       "        vertical-align: top;\n",
       "    }\n",
       "\n",
       "    .dataframe thead th {\n",
       "        text-align: right;\n",
       "    }\n",
       "</style>\n",
       "<table border=\"1\" class=\"dataframe\">\n",
       "  <thead>\n",
       "    <tr style=\"text-align: right;\">\n",
       "      <th></th>\n",
       "      <th>Membership Type</th>\n",
       "      <th>Checkout Date</th>\n",
       "      <th>Checkout Time</th>\n",
       "      <th>Trip Duration Minutes</th>\n",
       "    </tr>\n",
       "  </thead>\n",
       "  <tbody>\n",
       "    <tr>\n",
       "      <th>0</th>\n",
       "      <td>Explorer</td>\n",
       "      <td>2014/01/01</td>\n",
       "      <td>0:12:00</td>\n",
       "      <td>20</td>\n",
       "    </tr>\n",
       "    <tr>\n",
       "      <th>1</th>\n",
       "      <td>Explorer</td>\n",
       "      <td>2014/01/01</td>\n",
       "      <td>0:12:00</td>\n",
       "      <td>19</td>\n",
       "    </tr>\n",
       "    <tr>\n",
       "      <th>2</th>\n",
       "      <td>Explorer</td>\n",
       "      <td>2014/01/01</td>\n",
       "      <td>0:12:00</td>\n",
       "      <td>17</td>\n",
       "    </tr>\n",
       "  </tbody>\n",
       "</table>\n",
       "</div>"
      ],
      "text/plain": [
       "  Membership Type Checkout Date Checkout Time  Trip Duration Minutes\n",
       "0        Explorer    2014/01/01       0:12:00                     20\n",
       "1        Explorer    2014/01/01       0:12:00                     19\n",
       "2        Explorer    2014/01/01       0:12:00                     17"
      ]
     },
     "execution_count": 4,
     "metadata": {},
     "output_type": "execute_result"
    }
   ],
   "source": [
    "# Load reformatted bike csv \n",
    "bike = pd.read_csv(\"bike_use.csv\")\n",
    "bike.head(3)"
   ]
  },
  {
   "cell_type": "code",
   "execution_count": 5,
   "metadata": {
    "scrolled": true
   },
   "outputs": [
    {
     "name": "stdout",
     "output_type": "stream",
     "text": [
      "(1319, 4)\n"
     ]
    },
    {
     "data": {
      "text/html": [
       "<div>\n",
       "<style scoped>\n",
       "    .dataframe tbody tr th:only-of-type {\n",
       "        vertical-align: middle;\n",
       "    }\n",
       "\n",
       "    .dataframe tbody tr th {\n",
       "        vertical-align: top;\n",
       "    }\n",
       "\n",
       "    .dataframe thead th {\n",
       "        text-align: right;\n",
       "    }\n",
       "</style>\n",
       "<table border=\"1\" class=\"dataframe\">\n",
       "  <thead>\n",
       "    <tr style=\"text-align: right;\">\n",
       "      <th></th>\n",
       "      <th>Date</th>\n",
       "      <th>TempAvgF</th>\n",
       "      <th>HumidityAvgPercent</th>\n",
       "      <th>PrecipitationSumInches</th>\n",
       "    </tr>\n",
       "  </thead>\n",
       "  <tbody>\n",
       "    <tr>\n",
       "      <th>0</th>\n",
       "      <td>2013-12-21</td>\n",
       "      <td>60</td>\n",
       "      <td>75</td>\n",
       "      <td>0.46</td>\n",
       "    </tr>\n",
       "    <tr>\n",
       "      <th>1</th>\n",
       "      <td>2013-12-22</td>\n",
       "      <td>48</td>\n",
       "      <td>68</td>\n",
       "      <td>0</td>\n",
       "    </tr>\n",
       "    <tr>\n",
       "      <th>2</th>\n",
       "      <td>2013-12-23</td>\n",
       "      <td>45</td>\n",
       "      <td>52</td>\n",
       "      <td>0</td>\n",
       "    </tr>\n",
       "  </tbody>\n",
       "</table>\n",
       "</div>"
      ],
      "text/plain": [
       "         Date  TempAvgF HumidityAvgPercent PrecipitationSumInches\n",
       "0  2013-12-21        60                 75                   0.46\n",
       "1  2013-12-22        48                 68                      0\n",
       "2  2013-12-23        45                 52                      0"
      ]
     },
     "execution_count": 5,
     "metadata": {},
     "output_type": "execute_result"
    }
   ],
   "source": [
    "# weather csv \n",
    "weather = pd.read_csv(\"austin_weather.csv\")\n",
    "weather = weather.filter(['Date','TempAvgF','HumidityAvgPercent','PrecipitationSumInches'], axis=1)\n",
    "print(weather.shape)\n",
    "weather.head(3)"
   ]
  },
  {
   "cell_type": "code",
   "execution_count": 6,
   "metadata": {},
   "outputs": [
    {
     "data": {
      "text/html": [
       "<div>\n",
       "<style scoped>\n",
       "    .dataframe tbody tr th:only-of-type {\n",
       "        vertical-align: middle;\n",
       "    }\n",
       "\n",
       "    .dataframe tbody tr th {\n",
       "        vertical-align: top;\n",
       "    }\n",
       "\n",
       "    .dataframe thead th {\n",
       "        text-align: right;\n",
       "    }\n",
       "</style>\n",
       "<table border=\"1\" class=\"dataframe\">\n",
       "  <thead>\n",
       "    <tr style=\"text-align: right;\">\n",
       "      <th></th>\n",
       "      <th>Date</th>\n",
       "      <th>TempAvgF</th>\n",
       "      <th>HumidityAvgPercent</th>\n",
       "      <th>PrecipitationSumInches</th>\n",
       "    </tr>\n",
       "  </thead>\n",
       "  <tbody>\n",
       "    <tr>\n",
       "      <th>0</th>\n",
       "      <td>2014/01/01</td>\n",
       "      <td>54</td>\n",
       "      <td>68</td>\n",
       "      <td>0</td>\n",
       "    </tr>\n",
       "    <tr>\n",
       "      <th>1</th>\n",
       "      <td>2014/01/02</td>\n",
       "      <td>44</td>\n",
       "      <td>55</td>\n",
       "      <td>0</td>\n",
       "    </tr>\n",
       "    <tr>\n",
       "      <th>2</th>\n",
       "      <td>2014/01/03</td>\n",
       "      <td>43</td>\n",
       "      <td>49</td>\n",
       "      <td>0</td>\n",
       "    </tr>\n",
       "  </tbody>\n",
       "</table>\n",
       "</div>"
      ],
      "text/plain": [
       "         Date  TempAvgF HumidityAvgPercent PrecipitationSumInches\n",
       "0  2014/01/01        54                 68                      0\n",
       "1  2014/01/02        44                 55                      0\n",
       "2  2014/01/03        43                 49                      0"
      ]
     },
     "execution_count": 6,
     "metadata": {},
     "output_type": "execute_result"
    }
   ],
   "source": [
    "# consistent dates \n",
    "weather['Date']= pd.to_datetime(weather['Date'])\n",
    "weather['Date'] = weather['Date'].dt.strftime('%Y/%m/%d')\n",
    "start_date = '2014/01/01'\n",
    "end_date = '2017/07/31'\n",
    "\n",
    "mask = (weather['Date'] >= start_date) & (weather['Date'] <= end_date)\n",
    "\n",
    "weather = weather.loc[mask]\n",
    "weather = weather.reset_index(drop = True) \n",
    "\n",
    "weather.head(3) "
   ]
  },
  {
   "cell_type": "code",
   "execution_count": 7,
   "metadata": {},
   "outputs": [
    {
     "data": {
      "text/html": [
       "<div>\n",
       "<style scoped>\n",
       "    .dataframe tbody tr th:only-of-type {\n",
       "        vertical-align: middle;\n",
       "    }\n",
       "\n",
       "    .dataframe tbody tr th {\n",
       "        vertical-align: top;\n",
       "    }\n",
       "\n",
       "    .dataframe thead th {\n",
       "        text-align: right;\n",
       "    }\n",
       "</style>\n",
       "<table border=\"1\" class=\"dataframe\">\n",
       "  <thead>\n",
       "    <tr style=\"text-align: right;\">\n",
       "      <th></th>\n",
       "      <th></th>\n",
       "      <th>Trip Duration Minutes</th>\n",
       "    </tr>\n",
       "    <tr>\n",
       "      <th>Checkout Date</th>\n",
       "      <th>Membership Type</th>\n",
       "      <th></th>\n",
       "    </tr>\n",
       "  </thead>\n",
       "  <tbody>\n",
       "    <tr>\n",
       "      <th rowspan=\"5\" valign=\"top\">2014/01/01</th>\n",
       "      <th>Explorer</th>\n",
       "      <td>43.991770</td>\n",
       "    </tr>\n",
       "    <tr>\n",
       "      <th>Local365</th>\n",
       "      <td>33.857143</td>\n",
       "    </tr>\n",
       "    <tr>\n",
       "      <th>National</th>\n",
       "      <td>11.333333</td>\n",
       "    </tr>\n",
       "    <tr>\n",
       "      <th>Other</th>\n",
       "      <td>8.000000</td>\n",
       "    </tr>\n",
       "    <tr>\n",
       "      <th>SevenDay</th>\n",
       "      <td>13.000000</td>\n",
       "    </tr>\n",
       "    <tr>\n",
       "      <th rowspan=\"5\" valign=\"top\">2014/01/02</th>\n",
       "      <th>Explorer</th>\n",
       "      <td>24.348214</td>\n",
       "    </tr>\n",
       "    <tr>\n",
       "      <th>Local365</th>\n",
       "      <td>7.200000</td>\n",
       "    </tr>\n",
       "    <tr>\n",
       "      <th>National</th>\n",
       "      <td>6.000000</td>\n",
       "    </tr>\n",
       "    <tr>\n",
       "      <th>Other</th>\n",
       "      <td>7.461538</td>\n",
       "    </tr>\n",
       "    <tr>\n",
       "      <th>SevenDay</th>\n",
       "      <td>11.625000</td>\n",
       "    </tr>\n",
       "  </tbody>\n",
       "</table>\n",
       "</div>"
      ],
      "text/plain": [
       "                               Trip Duration Minutes\n",
       "Checkout Date Membership Type                       \n",
       "2014/01/01    Explorer                     43.991770\n",
       "              Local365                     33.857143\n",
       "              National                     11.333333\n",
       "              Other                         8.000000\n",
       "              SevenDay                     13.000000\n",
       "2014/01/02    Explorer                     24.348214\n",
       "              Local365                      7.200000\n",
       "              National                      6.000000\n",
       "              Other                         7.461538\n",
       "              SevenDay                     11.625000"
      ]
     },
     "execution_count": 7,
     "metadata": {},
     "output_type": "execute_result"
    }
   ],
   "source": [
    "bike = bike.groupby(['Checkout Date','Membership Type']).mean()[['Trip Duration Minutes']]\n",
    "bike.head(10) "
   ]
  },
  {
   "cell_type": "markdown",
   "metadata": {},
   "source": [
    "# Combine the Datasets \n",
    "- Multilevel index "
   ]
  },
  {
   "cell_type": "code",
   "execution_count": 8,
   "metadata": {},
   "outputs": [
    {
     "data": {
      "text/html": [
       "<div>\n",
       "<style scoped>\n",
       "    .dataframe tbody tr th:only-of-type {\n",
       "        vertical-align: middle;\n",
       "    }\n",
       "\n",
       "    .dataframe tbody tr th {\n",
       "        vertical-align: top;\n",
       "    }\n",
       "\n",
       "    .dataframe thead th {\n",
       "        text-align: right;\n",
       "    }\n",
       "</style>\n",
       "<table border=\"1\" class=\"dataframe\">\n",
       "  <thead>\n",
       "    <tr style=\"text-align: right;\">\n",
       "      <th></th>\n",
       "      <th></th>\n",
       "      <th>Trip Duration Minutes</th>\n",
       "    </tr>\n",
       "    <tr>\n",
       "      <th>Date</th>\n",
       "      <th>Membership Type</th>\n",
       "      <th></th>\n",
       "    </tr>\n",
       "  </thead>\n",
       "  <tbody>\n",
       "    <tr>\n",
       "      <th rowspan=\"5\" valign=\"top\">2014/01/01</th>\n",
       "      <th>Explorer</th>\n",
       "      <td>43.991770</td>\n",
       "    </tr>\n",
       "    <tr>\n",
       "      <th>Local365</th>\n",
       "      <td>33.857143</td>\n",
       "    </tr>\n",
       "    <tr>\n",
       "      <th>National</th>\n",
       "      <td>11.333333</td>\n",
       "    </tr>\n",
       "    <tr>\n",
       "      <th>Other</th>\n",
       "      <td>8.000000</td>\n",
       "    </tr>\n",
       "    <tr>\n",
       "      <th>SevenDay</th>\n",
       "      <td>13.000000</td>\n",
       "    </tr>\n",
       "    <tr>\n",
       "      <th rowspan=\"5\" valign=\"top\">2014/01/02</th>\n",
       "      <th>Explorer</th>\n",
       "      <td>24.348214</td>\n",
       "    </tr>\n",
       "    <tr>\n",
       "      <th>Local365</th>\n",
       "      <td>7.200000</td>\n",
       "    </tr>\n",
       "    <tr>\n",
       "      <th>National</th>\n",
       "      <td>6.000000</td>\n",
       "    </tr>\n",
       "    <tr>\n",
       "      <th>Other</th>\n",
       "      <td>7.461538</td>\n",
       "    </tr>\n",
       "    <tr>\n",
       "      <th>SevenDay</th>\n",
       "      <td>11.625000</td>\n",
       "    </tr>\n",
       "  </tbody>\n",
       "</table>\n",
       "</div>"
      ],
      "text/plain": [
       "                            Trip Duration Minutes\n",
       "Date       Membership Type                       \n",
       "2014/01/01 Explorer                     43.991770\n",
       "           Local365                     33.857143\n",
       "           National                     11.333333\n",
       "           Other                         8.000000\n",
       "           SevenDay                     13.000000\n",
       "2014/01/02 Explorer                     24.348214\n",
       "           Local365                      7.200000\n",
       "           National                      6.000000\n",
       "           Other                         7.461538\n",
       "           SevenDay                     11.625000"
      ]
     },
     "execution_count": 8,
     "metadata": {},
     "output_type": "execute_result"
    }
   ],
   "source": [
    "bike.index.levels[0].name = 'Date' \n",
    "# print(bike.index.levels[1].name) --> Membership Type \n",
    "bike.head(10)"
   ]
  },
  {
   "cell_type": "code",
   "execution_count": 9,
   "metadata": {},
   "outputs": [
    {
     "data": {
      "text/html": [
       "<div>\n",
       "<style scoped>\n",
       "    .dataframe tbody tr th:only-of-type {\n",
       "        vertical-align: middle;\n",
       "    }\n",
       "\n",
       "    .dataframe tbody tr th {\n",
       "        vertical-align: top;\n",
       "    }\n",
       "\n",
       "    .dataframe thead th {\n",
       "        text-align: right;\n",
       "    }\n",
       "</style>\n",
       "<table border=\"1\" class=\"dataframe\">\n",
       "  <thead>\n",
       "    <tr style=\"text-align: right;\">\n",
       "      <th></th>\n",
       "      <th>Date</th>\n",
       "      <th>TempAvgF</th>\n",
       "      <th>HumidityAvgPercent</th>\n",
       "      <th>PrecipitationSumInches</th>\n",
       "    </tr>\n",
       "  </thead>\n",
       "  <tbody>\n",
       "    <tr>\n",
       "      <th>0</th>\n",
       "      <td>2014/01/01</td>\n",
       "      <td>54</td>\n",
       "      <td>68</td>\n",
       "      <td>0</td>\n",
       "    </tr>\n",
       "    <tr>\n",
       "      <th>1</th>\n",
       "      <td>2014/01/02</td>\n",
       "      <td>44</td>\n",
       "      <td>55</td>\n",
       "      <td>0</td>\n",
       "    </tr>\n",
       "    <tr>\n",
       "      <th>2</th>\n",
       "      <td>2014/01/03</td>\n",
       "      <td>43</td>\n",
       "      <td>49</td>\n",
       "      <td>0</td>\n",
       "    </tr>\n",
       "    <tr>\n",
       "      <th>3</th>\n",
       "      <td>2014/01/04</td>\n",
       "      <td>57</td>\n",
       "      <td>68</td>\n",
       "      <td>0</td>\n",
       "    </tr>\n",
       "    <tr>\n",
       "      <th>4</th>\n",
       "      <td>2014/01/05</td>\n",
       "      <td>47</td>\n",
       "      <td>59</td>\n",
       "      <td>0</td>\n",
       "    </tr>\n",
       "    <tr>\n",
       "      <th>5</th>\n",
       "      <td>2014/01/06</td>\n",
       "      <td>29</td>\n",
       "      <td>38</td>\n",
       "      <td>0</td>\n",
       "    </tr>\n",
       "    <tr>\n",
       "      <th>6</th>\n",
       "      <td>2014/01/07</td>\n",
       "      <td>35</td>\n",
       "      <td>43</td>\n",
       "      <td>0</td>\n",
       "    </tr>\n",
       "    <tr>\n",
       "      <th>7</th>\n",
       "      <td>2014/01/08</td>\n",
       "      <td>47</td>\n",
       "      <td>75</td>\n",
       "      <td>0.16</td>\n",
       "    </tr>\n",
       "    <tr>\n",
       "      <th>8</th>\n",
       "      <td>2014/01/09</td>\n",
       "      <td>62</td>\n",
       "      <td>80</td>\n",
       "      <td>0</td>\n",
       "    </tr>\n",
       "    <tr>\n",
       "      <th>9</th>\n",
       "      <td>2014/01/10</td>\n",
       "      <td>65</td>\n",
       "      <td>81</td>\n",
       "      <td>0.1</td>\n",
       "    </tr>\n",
       "  </tbody>\n",
       "</table>\n",
       "</div>"
      ],
      "text/plain": [
       "         Date  TempAvgF HumidityAvgPercent PrecipitationSumInches\n",
       "0  2014/01/01        54                 68                      0\n",
       "1  2014/01/02        44                 55                      0\n",
       "2  2014/01/03        43                 49                      0\n",
       "3  2014/01/04        57                 68                      0\n",
       "4  2014/01/05        47                 59                      0\n",
       "5  2014/01/06        29                 38                      0\n",
       "6  2014/01/07        35                 43                      0\n",
       "7  2014/01/08        47                 75                   0.16\n",
       "8  2014/01/09        62                 80                      0\n",
       "9  2014/01/10        65                 81                    0.1"
      ]
     },
     "execution_count": 9,
     "metadata": {},
     "output_type": "execute_result"
    }
   ],
   "source": [
    "weather.head(10) "
   ]
  },
  {
   "cell_type": "code",
   "execution_count": 10,
   "metadata": {},
   "outputs": [
    {
     "name": "stdout",
     "output_type": "stream",
     "text": [
      "Date                       object\n",
      "TempAvgF                    int64\n",
      "HumidityAvgPercent        float64\n",
      "PrecipitationSumInches    float64\n",
      "dtype: object\n"
     ]
    }
   ],
   "source": [
    "# convert datatypes \n",
    "weather['TempAvgF'] =pd.to_numeric(weather['TempAvgF'], errors='coerce')\n",
    "weather['HumidityAvgPercent']=pd.to_numeric(weather['HumidityAvgPercent'], errors='coerce')\n",
    "weather['PrecipitationSumInches']=pd.to_numeric(weather['PrecipitationSumInches'], errors='coerce')\n",
    "print(weather.dtypes)"
   ]
  },
  {
   "cell_type": "code",
   "execution_count": 11,
   "metadata": {},
   "outputs": [
    {
     "data": {
      "text/html": [
       "<div>\n",
       "<style scoped>\n",
       "    .dataframe tbody tr th:only-of-type {\n",
       "        vertical-align: middle;\n",
       "    }\n",
       "\n",
       "    .dataframe tbody tr th {\n",
       "        vertical-align: top;\n",
       "    }\n",
       "\n",
       "    .dataframe thead th {\n",
       "        text-align: right;\n",
       "    }\n",
       "</style>\n",
       "<table border=\"1\" class=\"dataframe\">\n",
       "  <thead>\n",
       "    <tr style=\"text-align: right;\">\n",
       "      <th></th>\n",
       "      <th>TempAvgF</th>\n",
       "      <th>HumidityAvgPercent</th>\n",
       "      <th>PrecipitationSumInches</th>\n",
       "    </tr>\n",
       "    <tr>\n",
       "      <th>Date</th>\n",
       "      <th></th>\n",
       "      <th></th>\n",
       "      <th></th>\n",
       "    </tr>\n",
       "  </thead>\n",
       "  <tbody>\n",
       "    <tr>\n",
       "      <th>2014/01/01</th>\n",
       "      <td>54</td>\n",
       "      <td>68.0</td>\n",
       "      <td>0.0</td>\n",
       "    </tr>\n",
       "    <tr>\n",
       "      <th>2014/01/02</th>\n",
       "      <td>44</td>\n",
       "      <td>55.0</td>\n",
       "      <td>0.0</td>\n",
       "    </tr>\n",
       "  </tbody>\n",
       "</table>\n",
       "</div>"
      ],
      "text/plain": [
       "            TempAvgF  HumidityAvgPercent  PrecipitationSumInches\n",
       "Date                                                            \n",
       "2014/01/01        54                68.0                     0.0\n",
       "2014/01/02        44                55.0                     0.0"
      ]
     },
     "execution_count": 11,
     "metadata": {},
     "output_type": "execute_result"
    }
   ],
   "source": [
    "# set index \n",
    "weather.set_index('Date', inplace=True, drop=True)\n",
    "weather.head(2)"
   ]
  },
  {
   "cell_type": "code",
   "execution_count": 12,
   "metadata": {},
   "outputs": [
    {
     "name": "stdout",
     "output_type": "stream",
     "text": [
      "Trip Duration Minutes    float64\n",
      "dtype: object\n"
     ]
    }
   ],
   "source": [
    "print(bike.dtypes)"
   ]
  },
  {
   "cell_type": "code",
   "execution_count": 13,
   "metadata": {},
   "outputs": [
    {
     "name": "stdout",
     "output_type": "stream",
     "text": [
      "Index(['2014/01/01', '2014/01/01', '2014/01/01', '2014/01/01', '2014/01/01',\n",
      "       '2014/01/02', '2014/01/02', '2014/01/02', '2014/01/02', '2014/01/02',\n",
      "       ...\n",
      "       '2017/07/30', '2017/07/30', '2017/07/30', '2017/07/30', '2017/07/31',\n",
      "       '2017/07/31', '2017/07/31', '2017/07/31', '2017/07/31', '2017/07/31'],\n",
      "      dtype='object', name='Date', length=7169)\n"
     ]
    }
   ],
   "source": [
    "firsts = bike.index.get_level_values('Date')\n",
    "print(firsts)"
   ]
  },
  {
   "cell_type": "code",
   "execution_count": 14,
   "metadata": {},
   "outputs": [
    {
     "name": "stdout",
     "output_type": "stream",
     "text": [
      "Date\n"
     ]
    }
   ],
   "source": [
    "print(weather.index.name)"
   ]
  },
  {
   "cell_type": "code",
   "execution_count": 15,
   "metadata": {},
   "outputs": [
    {
     "data": {
      "text/html": [
       "<div>\n",
       "<style scoped>\n",
       "    .dataframe tbody tr th:only-of-type {\n",
       "        vertical-align: middle;\n",
       "    }\n",
       "\n",
       "    .dataframe tbody tr th {\n",
       "        vertical-align: top;\n",
       "    }\n",
       "\n",
       "    .dataframe thead th {\n",
       "        text-align: right;\n",
       "    }\n",
       "</style>\n",
       "<table border=\"1\" class=\"dataframe\">\n",
       "  <thead>\n",
       "    <tr style=\"text-align: right;\">\n",
       "      <th></th>\n",
       "      <th>TempAvgF</th>\n",
       "    </tr>\n",
       "    <tr>\n",
       "      <th>Date</th>\n",
       "      <th></th>\n",
       "    </tr>\n",
       "  </thead>\n",
       "  <tbody>\n",
       "    <tr>\n",
       "      <th>2014/01/01</th>\n",
       "      <td>54</td>\n",
       "    </tr>\n",
       "    <tr>\n",
       "      <th>2014/01/02</th>\n",
       "      <td>44</td>\n",
       "    </tr>\n",
       "  </tbody>\n",
       "</table>\n",
       "</div>"
      ],
      "text/plain": [
       "            TempAvgF\n",
       "Date                \n",
       "2014/01/01        54\n",
       "2014/01/02        44"
      ]
     },
     "execution_count": 15,
     "metadata": {},
     "output_type": "execute_result"
    }
   ],
   "source": [
    "w2 = weather[['TempAvgF']].copy() \n",
    "w3 = weather[['HumidityAvgPercent']].copy() \n",
    "w4 = weather[['PrecipitationSumInches']].copy() \n",
    "w2.head(2) "
   ]
  },
  {
   "cell_type": "markdown",
   "metadata": {},
   "source": [
    "# Show Combined Dataframe\n"
   ]
  },
  {
   "cell_type": "code",
   "execution_count": 16,
   "metadata": {},
   "outputs": [
    {
     "data": {
      "text/html": [
       "<div>\n",
       "<style scoped>\n",
       "    .dataframe tbody tr th:only-of-type {\n",
       "        vertical-align: middle;\n",
       "    }\n",
       "\n",
       "    .dataframe tbody tr th {\n",
       "        vertical-align: top;\n",
       "    }\n",
       "\n",
       "    .dataframe thead th {\n",
       "        text-align: right;\n",
       "    }\n",
       "</style>\n",
       "<table border=\"1\" class=\"dataframe\">\n",
       "  <thead>\n",
       "    <tr style=\"text-align: right;\">\n",
       "      <th></th>\n",
       "      <th></th>\n",
       "      <th>Trip Duration Minutes</th>\n",
       "      <th>TempAvgF</th>\n",
       "      <th>HumidityAvgPercent</th>\n",
       "      <th>PrecipitationSumInches</th>\n",
       "    </tr>\n",
       "    <tr>\n",
       "      <th>Date</th>\n",
       "      <th>Membership Type</th>\n",
       "      <th></th>\n",
       "      <th></th>\n",
       "      <th></th>\n",
       "      <th></th>\n",
       "    </tr>\n",
       "  </thead>\n",
       "  <tbody>\n",
       "    <tr>\n",
       "      <th rowspan=\"5\" valign=\"top\">2014/01/01</th>\n",
       "      <th>Explorer</th>\n",
       "      <td>43.991770</td>\n",
       "      <td>54</td>\n",
       "      <td>68.0</td>\n",
       "      <td>0.0</td>\n",
       "    </tr>\n",
       "    <tr>\n",
       "      <th>Local365</th>\n",
       "      <td>33.857143</td>\n",
       "      <td>54</td>\n",
       "      <td>68.0</td>\n",
       "      <td>0.0</td>\n",
       "    </tr>\n",
       "    <tr>\n",
       "      <th>National</th>\n",
       "      <td>11.333333</td>\n",
       "      <td>54</td>\n",
       "      <td>68.0</td>\n",
       "      <td>0.0</td>\n",
       "    </tr>\n",
       "    <tr>\n",
       "      <th>Other</th>\n",
       "      <td>8.000000</td>\n",
       "      <td>54</td>\n",
       "      <td>68.0</td>\n",
       "      <td>0.0</td>\n",
       "    </tr>\n",
       "    <tr>\n",
       "      <th>SevenDay</th>\n",
       "      <td>13.000000</td>\n",
       "      <td>54</td>\n",
       "      <td>68.0</td>\n",
       "      <td>0.0</td>\n",
       "    </tr>\n",
       "    <tr>\n",
       "      <th rowspan=\"5\" valign=\"top\">2014/01/02</th>\n",
       "      <th>Explorer</th>\n",
       "      <td>24.348214</td>\n",
       "      <td>44</td>\n",
       "      <td>55.0</td>\n",
       "      <td>0.0</td>\n",
       "    </tr>\n",
       "    <tr>\n",
       "      <th>Local365</th>\n",
       "      <td>7.200000</td>\n",
       "      <td>44</td>\n",
       "      <td>55.0</td>\n",
       "      <td>0.0</td>\n",
       "    </tr>\n",
       "    <tr>\n",
       "      <th>National</th>\n",
       "      <td>6.000000</td>\n",
       "      <td>44</td>\n",
       "      <td>55.0</td>\n",
       "      <td>0.0</td>\n",
       "    </tr>\n",
       "    <tr>\n",
       "      <th>Other</th>\n",
       "      <td>7.461538</td>\n",
       "      <td>44</td>\n",
       "      <td>55.0</td>\n",
       "      <td>0.0</td>\n",
       "    </tr>\n",
       "    <tr>\n",
       "      <th>SevenDay</th>\n",
       "      <td>11.625000</td>\n",
       "      <td>44</td>\n",
       "      <td>55.0</td>\n",
       "      <td>0.0</td>\n",
       "    </tr>\n",
       "    <tr>\n",
       "      <th rowspan=\"4\" valign=\"top\">2014/01/03</th>\n",
       "      <th>Explorer</th>\n",
       "      <td>52.487805</td>\n",
       "      <td>43</td>\n",
       "      <td>49.0</td>\n",
       "      <td>0.0</td>\n",
       "    </tr>\n",
       "    <tr>\n",
       "      <th>Local365</th>\n",
       "      <td>13.200000</td>\n",
       "      <td>43</td>\n",
       "      <td>49.0</td>\n",
       "      <td>0.0</td>\n",
       "    </tr>\n",
       "    <tr>\n",
       "      <th>Other</th>\n",
       "      <td>5.250000</td>\n",
       "      <td>43</td>\n",
       "      <td>49.0</td>\n",
       "      <td>0.0</td>\n",
       "    </tr>\n",
       "    <tr>\n",
       "      <th>SevenDay</th>\n",
       "      <td>3.333333</td>\n",
       "      <td>43</td>\n",
       "      <td>49.0</td>\n",
       "      <td>0.0</td>\n",
       "    </tr>\n",
       "    <tr>\n",
       "      <th rowspan=\"4\" valign=\"top\">2014/01/04</th>\n",
       "      <th>Explorer</th>\n",
       "      <td>44.257143</td>\n",
       "      <td>57</td>\n",
       "      <td>68.0</td>\n",
       "      <td>0.0</td>\n",
       "    </tr>\n",
       "    <tr>\n",
       "      <th>Local365</th>\n",
       "      <td>14.153846</td>\n",
       "      <td>57</td>\n",
       "      <td>68.0</td>\n",
       "      <td>0.0</td>\n",
       "    </tr>\n",
       "    <tr>\n",
       "      <th>Other</th>\n",
       "      <td>9.800000</td>\n",
       "      <td>57</td>\n",
       "      <td>68.0</td>\n",
       "      <td>0.0</td>\n",
       "    </tr>\n",
       "    <tr>\n",
       "      <th>SevenDay</th>\n",
       "      <td>18.500000</td>\n",
       "      <td>57</td>\n",
       "      <td>68.0</td>\n",
       "      <td>0.0</td>\n",
       "    </tr>\n",
       "    <tr>\n",
       "      <th rowspan=\"2\" valign=\"top\">2014/01/05</th>\n",
       "      <th>Explorer</th>\n",
       "      <td>21.371429</td>\n",
       "      <td>47</td>\n",
       "      <td>59.0</td>\n",
       "      <td>0.0</td>\n",
       "    </tr>\n",
       "    <tr>\n",
       "      <th>Local365</th>\n",
       "      <td>10.777778</td>\n",
       "      <td>47</td>\n",
       "      <td>59.0</td>\n",
       "      <td>0.0</td>\n",
       "    </tr>\n",
       "  </tbody>\n",
       "</table>\n",
       "</div>"
      ],
      "text/plain": [
       "                            Trip Duration Minutes  TempAvgF  \\\n",
       "Date       Membership Type                                    \n",
       "2014/01/01 Explorer                     43.991770        54   \n",
       "           Local365                     33.857143        54   \n",
       "           National                     11.333333        54   \n",
       "           Other                         8.000000        54   \n",
       "           SevenDay                     13.000000        54   \n",
       "2014/01/02 Explorer                     24.348214        44   \n",
       "           Local365                      7.200000        44   \n",
       "           National                      6.000000        44   \n",
       "           Other                         7.461538        44   \n",
       "           SevenDay                     11.625000        44   \n",
       "2014/01/03 Explorer                     52.487805        43   \n",
       "           Local365                     13.200000        43   \n",
       "           Other                         5.250000        43   \n",
       "           SevenDay                      3.333333        43   \n",
       "2014/01/04 Explorer                     44.257143        57   \n",
       "           Local365                     14.153846        57   \n",
       "           Other                         9.800000        57   \n",
       "           SevenDay                     18.500000        57   \n",
       "2014/01/05 Explorer                     21.371429        47   \n",
       "           Local365                     10.777778        47   \n",
       "\n",
       "                            HumidityAvgPercent  PrecipitationSumInches  \n",
       "Date       Membership Type                                              \n",
       "2014/01/01 Explorer                       68.0                     0.0  \n",
       "           Local365                       68.0                     0.0  \n",
       "           National                       68.0                     0.0  \n",
       "           Other                          68.0                     0.0  \n",
       "           SevenDay                       68.0                     0.0  \n",
       "2014/01/02 Explorer                       55.0                     0.0  \n",
       "           Local365                       55.0                     0.0  \n",
       "           National                       55.0                     0.0  \n",
       "           Other                          55.0                     0.0  \n",
       "           SevenDay                       55.0                     0.0  \n",
       "2014/01/03 Explorer                       49.0                     0.0  \n",
       "           Local365                       49.0                     0.0  \n",
       "           Other                          49.0                     0.0  \n",
       "           SevenDay                       49.0                     0.0  \n",
       "2014/01/04 Explorer                       68.0                     0.0  \n",
       "           Local365                       68.0                     0.0  \n",
       "           Other                          68.0                     0.0  \n",
       "           SevenDay                       68.0                     0.0  \n",
       "2014/01/05 Explorer                       59.0                     0.0  \n",
       "           Local365                       59.0                     0.0  "
      ]
     },
     "execution_count": 16,
     "metadata": {},
     "output_type": "execute_result"
    }
   ],
   "source": [
    "# confirm merged DataFrame \n",
    "\n",
    "bike['TempAvgF'] = w2.loc[firsts].values\n",
    "bike['HumidityAvgPercent'] = w3.loc[firsts].values\n",
    "bike['PrecipitationSumInches'] = w4.loc[firsts].values\n",
    "\n",
    "bike.head(20)"
   ]
  },
  {
   "cell_type": "markdown",
   "metadata": {},
   "source": [
    "# Begin Cluster Analysis \n",
    "\n",
    "Can we predict Average Ride Duration for a membertype given: \n",
    "- humidity\n",
    "- temp\n",
    "- precipitation"
   ]
  },
  {
   "cell_type": "code",
   "execution_count": 17,
   "metadata": {},
   "outputs": [
    {
     "name": "stdout",
     "output_type": "stream",
     "text": [
      "(7169, 4)\n"
     ]
    }
   ],
   "source": [
    "# rename merged dataset to data \n",
    "data = bike \n",
    "print(data.shape)"
   ]
  },
  {
   "cell_type": "markdown",
   "metadata": {},
   "source": [
    "## Data scaling & dimensionality reduction with PCA"
   ]
  },
  {
   "cell_type": "code",
   "execution_count": 18,
   "metadata": {},
   "outputs": [
    {
     "data": {
      "text/html": [
       "<div>\n",
       "<style scoped>\n",
       "    .dataframe tbody tr th:only-of-type {\n",
       "        vertical-align: middle;\n",
       "    }\n",
       "\n",
       "    .dataframe tbody tr th {\n",
       "        vertical-align: top;\n",
       "    }\n",
       "\n",
       "    .dataframe thead th {\n",
       "        text-align: right;\n",
       "    }\n",
       "</style>\n",
       "<table border=\"1\" class=\"dataframe\">\n",
       "  <thead>\n",
       "    <tr style=\"text-align: right;\">\n",
       "      <th></th>\n",
       "      <th></th>\n",
       "      <th>Trip Duration Minutes</th>\n",
       "      <th>TempAvgF</th>\n",
       "      <th>HumidityAvgPercent</th>\n",
       "      <th>PrecipitationSumInches</th>\n",
       "    </tr>\n",
       "    <tr>\n",
       "      <th>Date</th>\n",
       "      <th>Membership Type</th>\n",
       "      <th></th>\n",
       "      <th></th>\n",
       "      <th></th>\n",
       "      <th></th>\n",
       "    </tr>\n",
       "  </thead>\n",
       "  <tbody>\n",
       "    <tr>\n",
       "      <th rowspan=\"5\" valign=\"top\">2014/01/01</th>\n",
       "      <th>Explorer</th>\n",
       "      <td>43.991770</td>\n",
       "      <td>54</td>\n",
       "      <td>68.0</td>\n",
       "      <td>0.0</td>\n",
       "    </tr>\n",
       "    <tr>\n",
       "      <th>Local365</th>\n",
       "      <td>33.857143</td>\n",
       "      <td>54</td>\n",
       "      <td>68.0</td>\n",
       "      <td>0.0</td>\n",
       "    </tr>\n",
       "    <tr>\n",
       "      <th>National</th>\n",
       "      <td>11.333333</td>\n",
       "      <td>54</td>\n",
       "      <td>68.0</td>\n",
       "      <td>0.0</td>\n",
       "    </tr>\n",
       "    <tr>\n",
       "      <th>Other</th>\n",
       "      <td>8.000000</td>\n",
       "      <td>54</td>\n",
       "      <td>68.0</td>\n",
       "      <td>0.0</td>\n",
       "    </tr>\n",
       "    <tr>\n",
       "      <th>SevenDay</th>\n",
       "      <td>13.000000</td>\n",
       "      <td>54</td>\n",
       "      <td>68.0</td>\n",
       "      <td>0.0</td>\n",
       "    </tr>\n",
       "  </tbody>\n",
       "</table>\n",
       "</div>"
      ],
      "text/plain": [
       "                            Trip Duration Minutes  TempAvgF  \\\n",
       "Date       Membership Type                                    \n",
       "2014/01/01 Explorer                     43.991770        54   \n",
       "           Local365                     33.857143        54   \n",
       "           National                     11.333333        54   \n",
       "           Other                         8.000000        54   \n",
       "           SevenDay                     13.000000        54   \n",
       "\n",
       "                            HumidityAvgPercent  PrecipitationSumInches  \n",
       "Date       Membership Type                                              \n",
       "2014/01/01 Explorer                       68.0                     0.0  \n",
       "           Local365                       68.0                     0.0  \n",
       "           National                       68.0                     0.0  \n",
       "           Other                          68.0                     0.0  \n",
       "           SevenDay                       68.0                     0.0  "
      ]
     },
     "execution_count": 18,
     "metadata": {},
     "output_type": "execute_result"
    }
   ],
   "source": [
    "# check if NaN values are present\n",
    "data.isnull().sum()\n",
    "\n",
    "# since less than 10% of total rows are NaN, drop all NaN rows \n",
    "data.dropna(inplace=True)\n",
    "\n",
    "data.head()\n",
    "# Dataframe now 6510 rows "
   ]
  },
  {
   "cell_type": "code",
   "execution_count": 19,
   "metadata": {},
   "outputs": [],
   "source": [
    "#split the dataset into features and labels\n",
    "labels = data['Trip Duration Minutes'] \n",
    "features = data.drop('Trip Duration Minutes', axis = 1) # Temp, Humid, Prec. "
   ]
  },
  {
   "cell_type": "code",
   "execution_count": 20,
   "metadata": {},
   "outputs": [
    {
     "data": {
      "text/html": [
       "<div>\n",
       "<style scoped>\n",
       "    .dataframe tbody tr th:only-of-type {\n",
       "        vertical-align: middle;\n",
       "    }\n",
       "\n",
       "    .dataframe tbody tr th {\n",
       "        vertical-align: top;\n",
       "    }\n",
       "\n",
       "    .dataframe thead th {\n",
       "        text-align: right;\n",
       "    }\n",
       "</style>\n",
       "<table border=\"1\" class=\"dataframe\">\n",
       "  <thead>\n",
       "    <tr style=\"text-align: right;\">\n",
       "      <th></th>\n",
       "      <th>0</th>\n",
       "      <th>1</th>\n",
       "      <th>2</th>\n",
       "    </tr>\n",
       "  </thead>\n",
       "  <tbody>\n",
       "    <tr>\n",
       "      <th>0</th>\n",
       "      <td>-0.048104</td>\n",
       "      <td>1.269760</td>\n",
       "      <td>-0.399571</td>\n",
       "    </tr>\n",
       "    <tr>\n",
       "      <th>1</th>\n",
       "      <td>-0.048104</td>\n",
       "      <td>1.269760</td>\n",
       "      <td>-0.399571</td>\n",
       "    </tr>\n",
       "    <tr>\n",
       "      <th>2</th>\n",
       "      <td>-0.048104</td>\n",
       "      <td>1.269760</td>\n",
       "      <td>-0.399571</td>\n",
       "    </tr>\n",
       "    <tr>\n",
       "      <th>3</th>\n",
       "      <td>-0.048104</td>\n",
       "      <td>1.269760</td>\n",
       "      <td>-0.399571</td>\n",
       "    </tr>\n",
       "    <tr>\n",
       "      <th>4</th>\n",
       "      <td>-0.048104</td>\n",
       "      <td>1.269760</td>\n",
       "      <td>-0.399571</td>\n",
       "    </tr>\n",
       "    <tr>\n",
       "      <th>5</th>\n",
       "      <td>-0.767455</td>\n",
       "      <td>2.084713</td>\n",
       "      <td>0.279458</td>\n",
       "    </tr>\n",
       "    <tr>\n",
       "      <th>6</th>\n",
       "      <td>-0.767455</td>\n",
       "      <td>2.084713</td>\n",
       "      <td>0.279458</td>\n",
       "    </tr>\n",
       "    <tr>\n",
       "      <th>7</th>\n",
       "      <td>-0.767455</td>\n",
       "      <td>2.084713</td>\n",
       "      <td>0.279458</td>\n",
       "    </tr>\n",
       "    <tr>\n",
       "      <th>8</th>\n",
       "      <td>-0.767455</td>\n",
       "      <td>2.084713</td>\n",
       "      <td>0.279458</td>\n",
       "    </tr>\n",
       "    <tr>\n",
       "      <th>9</th>\n",
       "      <td>-0.767455</td>\n",
       "      <td>2.084713</td>\n",
       "      <td>0.279458</td>\n",
       "    </tr>\n",
       "  </tbody>\n",
       "</table>\n",
       "</div>"
      ],
      "text/plain": [
       "          0         1         2\n",
       "0 -0.048104  1.269760 -0.399571\n",
       "1 -0.048104  1.269760 -0.399571\n",
       "2 -0.048104  1.269760 -0.399571\n",
       "3 -0.048104  1.269760 -0.399571\n",
       "4 -0.048104  1.269760 -0.399571\n",
       "5 -0.767455  2.084713  0.279458\n",
       "6 -0.767455  2.084713  0.279458\n",
       "7 -0.767455  2.084713  0.279458\n",
       "8 -0.767455  2.084713  0.279458\n",
       "9 -0.767455  2.084713  0.279458"
      ]
     },
     "execution_count": 20,
     "metadata": {},
     "output_type": "execute_result"
    }
   ],
   "source": [
    "# create standard scaler object for labels only \n",
    "ss = StandardScaler().fit_transform(features) # use data for labels only \n",
    "\n",
    "# create PCA object \n",
    "pca = PCA(n_components = .95, svd_solver='full') \n",
    "pca_features = pca.fit_transform(ss)\n",
    "\n",
    "# put transformed data back into a dataframe \n",
    "transformed_features = pd.DataFrame(pca_features) \n",
    "transformed_features.head(10) "
   ]
  },
  {
   "cell_type": "code",
   "execution_count": 21,
   "metadata": {},
   "outputs": [],
   "source": [
    "def scatter(data, labels, numPoints):\n",
    "    \n",
    "    numEntries = data.shape[0]\n",
    "    start = rand.randint(0, numEntries - numPoints)\n",
    "    end = start + numPoints\n",
    "    data = data.iloc[start:end, :]\n",
    "    labels = labels.iloc[start:end]\n",
    "    \n",
    "    mds = MDS(n_components=2)\n",
    "    mds_data = mds.fit_transform(data.iloc[:, :-1])\n",
    "    plt.scatter(mds_data[:, 0], mds_data[:, 1], c=labels, s=50)\n",
    "    plt.show()"
   ]
  },
  {
   "cell_type": "code",
   "execution_count": 24,
   "metadata": {},
   "outputs": [
    {
     "data": {
      "image/png": "[encoded data removed]",
      "text/plain": [
       "<Figure size 432x288 with 1 Axes>"
      ]
     },
     "metadata": {
      "needs_background": "light"
     },
     "output_type": "display_data"
    }
   ],
   "source": [
    "scatter(transformed_features, labels, numPoints=3000)\n",
    "# 11 minutes to run, about 50% of dataframe "
   ]
  },
  {
   "cell_type": "code",
   "execution_count": 25,
   "metadata": {},
   "outputs": [
    {
     "data": {
      "image/png": "[encoded data removed]",
      "text/plain": [
       "<Figure size 432x288 with 1 Axes>"
      ]
     },
     "metadata": {
      "needs_background": "light"
     },
     "output_type": "display_data"
    }
   ],
   "source": [
    "scatter(transformed_features, labels, numPoints=300)\n",
    "# less than 10 seconds, about 5% of dataframe "
   ]
  },
  {
   "cell_type": "markdown",
   "metadata": {},
   "source": [
    "## DBSCAN Cluster"
   ]
  },
  {
   "cell_type": "code",
   "execution_count": 26,
   "metadata": {},
   "outputs": [
    {
     "data": {
      "image/png": "[encoded data removed]",
      "text/plain": [
       "<Figure size 432x288 with 1 Axes>"
      ]
     },
     "metadata": {
      "needs_background": "light"
     },
     "output_type": "display_data"
    }
   ],
   "source": [
    "# Nearest Neighbors with n_neighbors = 6\n",
    "nn = NearestNeighbors(6) \n",
    "\n",
    "# fit transformed data \n",
    "nn_fit = nn.fit(transformed_features)\n",
    "\n",
    "# K Neighbors method to find distance of each point \n",
    "dist, idx = nn_fit.kneighbors(transformed_features)\n",
    "\n",
    "# only look at distance to 6th nearest neighbor \n",
    "dist4 = []\n",
    "for i in dist: \n",
    "    dist4.append(i[5])\n",
    "dist4.sort() \n",
    "\n",
    "# plot distances of sixth nearest neighbor \n",
    "plt.plot(dist4)\n",
    "plt.show() \n",
    "\n",
    "# EPS = .15 "
   ]
  },
  {
   "cell_type": "code",
   "execution_count": 27,
   "metadata": {},
   "outputs": [
    {
     "data": {
      "image/png": "[encoded data removed]",
      "text/plain": [
       "<Figure size 432x288 with 1 Axes>"
      ]
     },
     "metadata": {
      "needs_background": "light"
     },
     "output_type": "display_data"
    }
   ],
   "source": [
    "# DBSCAN fit predict \n",
    "clusters = DBSCAN(eps=.15, min_samples =6).fit_predict(transformed_features)\n",
    "\n",
    "# convert return to pd series \n",
    "ser = pd.Series(clusters) \n",
    "\n",
    "# scatter func\n",
    "scatter(transformed_features, ser, 300)"
   ]
  },
  {
   "cell_type": "code",
   "execution_count": 28,
   "metadata": {},
   "outputs": [
    {
     "data": {
      "image/png": "[encoded data removed]",
      "text/plain": [
       "<Figure size 432x288 with 1 Axes>"
      ]
     },
     "metadata": {
      "needs_background": "light"
     },
     "output_type": "display_data"
    }
   ],
   "source": [
    "scatter(transformed_features, ser, 1500)\n",
    "# ~ 5 min "
   ]
  },
  {
   "cell_type": "code",
   "execution_count": 29,
   "metadata": {},
   "outputs": [
    {
     "data": {
      "image/png": "[encoded data removed]",
      "text/plain": [
       "<Figure size 432x288 with 1 Axes>"
      ]
     },
     "metadata": {
      "needs_background": "light"
     },
     "output_type": "display_data"
    }
   ],
   "source": [
    "scatter(transformed_features, ser, 3000)\n",
    "# 8 minutes "
   ]
  },
  {
   "cell_type": "markdown",
   "metadata": {},
   "source": [
    "# Cluster with K Means "
   ]
  },
  {
   "cell_type": "code",
   "execution_count": 22,
   "metadata": {},
   "outputs": [
    {
     "name": "stdout",
     "output_type": "stream",
     "text": [
      "K: 2  Silhouette Score: 0.3449289691284079\n",
      "K: 3  Silhouette Score: 0.39443399885495917\n",
      "K: 4  Silhouette Score: 0.40337270374433265\n",
      "K: 5  Silhouette Score: 0.40953433336350104\n",
      "K: 6  Silhouette Score: 0.36347580443370286\n",
      "K: 7  Silhouette Score: 0.3412257194770872\n",
      "K: 8  Silhouette Score: 0.35344787180229514\n",
      "K: 9  Silhouette Score: 0.352898681410987\n",
      "K: 10  Silhouette Score: 0.3609166177925407\n",
      "The best number of clusters is:  5\n"
     ]
    }
   ],
   "source": [
    "#cluster data using K means \n",
    "kmeans_2 = KMeans(n_clusters=2).fit_predict(transformed_features)\n",
    "kmeans_3 = KMeans(n_clusters=3).fit_predict(transformed_features)\n",
    "kmeans_4 = KMeans(n_clusters=4).fit_predict(transformed_features)\n",
    "kmeans_5 = KMeans(n_clusters=5).fit_predict(transformed_features)\n",
    "kmeans_6 = KMeans(n_clusters=6).fit_predict(transformed_features)\n",
    "kmeans_7 = KMeans(n_clusters=7).fit_predict(transformed_features)\n",
    "kmeans_8 = KMeans(n_clusters=8).fit_predict(transformed_features)\n",
    "kmeans_9 = KMeans(n_clusters=9).fit_predict(transformed_features)\n",
    "kmeans_10 = KMeans(n_clusters=10).fit_predict(transformed_features)\n",
    "\n",
    "# convert to series \n",
    "ser2 = pd.Series(kmeans_2)\n",
    "ser3 = pd.Series(kmeans_3)\n",
    "ser4 = pd.Series(kmeans_4)\n",
    "ser5 = pd.Series(kmeans_5)\n",
    "ser6 = pd.Series(kmeans_6)\n",
    "ser7 = pd.Series(kmeans_7)\n",
    "ser8 = pd.Series(kmeans_8)\n",
    "ser9 = pd.Series(kmeans_9)\n",
    "ser10 = pd.Series(kmeans_10)\n",
    "\n",
    "# K Means results in series \n",
    "series = [ser2,ser3,ser4,ser5,ser6,ser7,ser8,ser9,ser10] \n",
    "\n",
    "scores = [] # to hold corresponding silhouette scores \n",
    "\n",
    "for i in range (9):\n",
    "    s_score = silhouette_score(transformed_features, series[i]) \n",
    "    print('K:',i+2,\" Silhouette Score:\", s_score)\n",
    "    scores.append([s_score,i+2])\n",
    "    \n",
    "scores.sort(key=lambda x:x[0]) # sort from worst to best score \n",
    "print('The best number of clusters is: ', scores[-1][1])"
   ]
  },
  {
   "cell_type": "markdown",
   "metadata": {},
   "source": [
    "# Observation: Best number of clusters is 5, but there are 10 main member types\n",
    "\n",
    "This might suggest that some Membership Types ride more similarly to each other than we may have thought. "
   ]
  },
  {
   "cell_type": "code",
   "execution_count": 31,
   "metadata": {},
   "outputs": [
    {
     "data": {
      "image/png": "[encoded data removed]",
      "text/plain": [
       "<Figure size 432x288 with 1 Axes>"
      ]
     },
     "metadata": {
      "needs_background": "light"
     },
     "output_type": "display_data"
    }
   ],
   "source": [
    "#plot data \n",
    "scatter(transformed_features, ser5, 300)"
   ]
  },
  {
   "cell_type": "code",
   "execution_count": 32,
   "metadata": {},
   "outputs": [
    {
     "data": {
      "image/png": "[encoded data removed]",
      "text/plain": [
       "<Figure size 432x288 with 1 Axes>"
      ]
     },
     "metadata": {
      "needs_background": "light"
     },
     "output_type": "display_data"
    }
   ],
   "source": [
    "scatter(transformed_features, ser5, 3000)\n",
    "# 10 minutes to run "
   ]
  },
  {
   "cell_type": "markdown",
   "metadata": {},
   "source": [
    "# Classify Test Points "
   ]
  },
  {
   "cell_type": "code",
   "execution_count": 34,
   "metadata": {},
   "outputs": [
    {
     "name": "stdout",
     "output_type": "stream",
     "text": [
      "<class 'numpy.ndarray'>\n",
      "(6510, 3)\n",
      "[-1.296116    0.14763397 -0.26934685]\n",
      "mean:  2.364837574214363e-16\n",
      "std:  0.9999999999999999\n"
     ]
    }
   ],
   "source": [
    "# 80% training, 20% testing \n",
    "#x_train, x_test = train_test_split(scaled_features,train_size=.8,test_size=.2)\n",
    "\n",
    "from sklearn.model_selection import train_test_split\n",
    "\n",
    "scaled_features = StandardScaler().fit_transform(features) \n",
    " \n",
    "print(type(scaled_features))\n",
    "print(scaled_features.shape)\n",
    "print(scaled_features[0])\n",
    "print(\"mean: \", scaled_features.mean())\n",
    "print(\"std: \", scaled_features.std())"
   ]
  },
  {
   "cell_type": "code",
   "execution_count": 35,
   "metadata": {},
   "outputs": [
    {
     "name": "stdout",
     "output_type": "stream",
     "text": [
      "<class 'numpy.ndarray'>\n",
      "X_train= (5208, 3)  X_test= (1302, 3)\n",
      "y_train= (5208,)  y_test= (1302,)\n"
     ]
    }
   ],
   "source": [
    "# 80% train, 20% test split \n",
    "X_train, X_test, y_train, y_test = train_test_split(scaled_features, labels, test_size=0.20, random_state=None)\n",
    "\n",
    "print(type(X_train))\n",
    "\n",
    "print(\"X_train=\",X_train.shape, \" X_test=\", X_test.shape)\n",
    "print(\"y_train=\",y_train.shape, \" y_test=\", y_test.shape)"
   ]
  },
  {
   "cell_type": "code",
   "execution_count": 80,
   "metadata": {},
   "outputs": [
    {
     "name": "stdout",
     "output_type": "stream",
     "text": [
      "Variance in each PC:  [0.4499317  0.33761808 0.21245022] \n",
      "\n",
      "Cumulative variance:  [0.4499317  0.78754978 1.        ] \n",
      "\n",
      "n_cols to keep: 3 \n",
      "\n",
      "(5208, 3) (1302, 3)\n"
     ]
    }
   ],
   "source": [
    "# PCA on training set \n",
    "\n",
    "pca = PCA()\n",
    "pca_data = pca.fit_transform(X_train)\n",
    "\n",
    "var_exp = pca.explained_variance_ratio_\n",
    "print(\"Variance in each PC: \", var_exp,'\\n')\n",
    "\n",
    "cum_var_exp = np.cumsum(var_exp)\n",
    "print(\"Cumulative variance: \", cum_var_exp,'\\n')\n",
    "\n",
    "n_cols = 1 + np.argmax(cum_var_exp > 0.95)\n",
    "print(\"n_cols to keep:\", n_cols,'\\n')\n",
    "\n",
    "#reduce training set to size\n",
    "X_train_pca = pca_data[:, :n_cols] # all rows, columns 0 to n_cols\n",
    "X_test_pca = pca.transform(X_test)[:, :n_cols] \n",
    "print (X_train_pca.shape, X_test_pca.shape) #they've both been reduced to 2 dimensions"
   ]
  },
  {
   "cell_type": "markdown",
   "metadata": {},
   "source": [
    "# Use Descision Tree Regressor as a Classifier"
   ]
  },
  {
   "cell_type": "code",
   "execution_count": 81,
   "metadata": {},
   "outputs": [],
   "source": [
    "from sklearn import tree \n",
    "\n",
    "clf = tree.DecisionTreeRegressor(criterion='mse', max_depth=3, max_features=.68)\n",
    "# Train it\n",
    "\n",
    "# X_train, X_test, y_train, y_test\n",
    "# X_train_pca , X_train_pca \n",
    "\n",
    "clf = clf.fit(X_train_pca, y_train)\n",
    "\n",
    "# The trained tree is now stored in the variable 'clf'"
   ]
  },
  {
   "cell_type": "code",
   "execution_count": 82,
   "metadata": {},
   "outputs": [],
   "source": [
    "pred_Y = clf.predict(X_test_pca)\n",
    "\n",
    "clf2 = tree.DecisionTreeRegressor(criterion='mse', max_depth=3, min_samples_leaf = 2, max_features=.68,min_samples_split=2)\n",
    "\n",
    "clf2 = clf2.fit(X_train_pca, y_train)\n",
    "\n",
    "pred_y2 = clf2.predict(X_test_pca)"
   ]
  },
  {
   "cell_type": "code",
   "execution_count": 83,
   "metadata": {},
   "outputs": [
    {
     "name": "stdout",
     "output_type": "stream",
     "text": [
      "<class 'numpy.ndarray'>\n",
      "<class 'pandas.core.frame.DataFrame'>\n"
     ]
    }
   ],
   "source": [
    "print(type(pred_y2))\n",
    "print(type(y_test))"
   ]
  },
  {
   "cell_type": "code",
   "execution_count": 91,
   "metadata": {},
   "outputs": [
    {
     "name": "stdout",
     "output_type": "stream",
     "text": [
      "(1302, 1)\n",
      "(1302, 1)\n"
     ]
    }
   ],
   "source": [
    "from sklearn import metrics\n",
    "\n",
    "pred_y2 = pred_y2.reshape(1302,1)\n",
    "\n",
    "print(y_test.shape)\n",
    "print(pred_y2.shape)"
   ]
  },
  {
   "cell_type": "code",
   "execution_count": 92,
   "metadata": {},
   "outputs": [],
   "source": [
    "from sklearn.model_selection import cross_val_score\n",
    "sc = cross_val_score(clf,X_train, y_train,cv=10)"
   ]
  },
  {
   "cell_type": "code",
   "execution_count": 100,
   "metadata": {},
   "outputs": [
    {
     "name": "stdout",
     "output_type": "stream",
     "text": [
      "Mean Absolute Error: 13.305189274908379\n",
      "R^2: 0.01255369851011956\n",
      "Explained Variance: 0.012680019049564173\n"
     ]
    }
   ],
   "source": [
    "print('Mean Absolute Error:', (metrics.mean_absolute_error(y_test, pred_Y)))\n",
    "print('R^2:', metrics.r2_score(y_test,pred_Y))\n",
    "print('Explained Variance:', metrics.explained_variance_score(y_test,pred_Y))"
   ]
  },
  {
   "cell_type": "markdown",
   "metadata": {},
   "source": [
    "## Observation: \n",
    "- A Mean Absolute Error close to 0 reflects a strong model. \n",
    "\n",
    "- An R^2 value close to 0 between the test and predicted labels shows that the model is poorly trained (not linearly related). \n",
    "\n",
    "\n",
    "- A low Explained Variance Score reflects a poor model since the best possible score is 1. \n",
    "- This suggests high variance between the test and predicted label sets\n"
   ]
  },
  {
   "cell_type": "code",
   "execution_count": 123,
   "metadata": {},
   "outputs": [
    {
     "name": "stdout",
     "output_type": "stream",
     "text": [
      "{'max_depth': 5, 'max_features': 0.68, 'min_samples_leaf': 15}\n",
      "Accuracy: 41.42120456213597\n"
     ]
    }
   ],
   "source": [
    "from sklearn.model_selection import GridSearchCV\n",
    "\n",
    "params = {\"max_depth\": [5,10,15,20],\n",
    "          \"min_samples_leaf\": [5,10,15,20],\n",
    "          \"max_features\": [.68]}\n",
    "\n",
    "\n",
    "# Create the GridSearchCV object:\n",
    "# Pass in  classifier, test parameters,\n",
    "# num CV folds, scoring metric \n",
    "grid_search = GridSearchCV(clf, params, cv=5, scoring='explained_variance')\n",
    "\n",
    "# start training classifiers with the different max_depths specified\n",
    "# A 5-fold CV will be run for each max_depth and accuracy will be assesed for each max_depth\n",
    "grid_search.fit(features, labels)\n",
    "\n",
    "# best max_depth\n",
    "print(grid_search.best_params_)\n",
    "\n",
    "# Accuracy \n",
    "nested_score = cross_val_score(grid_search, features, labels, cv=3)\n",
    "hi = 0 \n",
    "for i in range(50):\n",
    "    tr = nested_score.mean()*-100\n",
    "    if tr > hi:\n",
    "        hi = tr\n",
    "print('Accuracy:', tr)"
   ]
  },
  {
   "cell_type": "code",
   "execution_count": 125,
   "metadata": {},
   "outputs": [
    {
     "data": {
      "text/plain": [
       "(6510, 3)"
      ]
     },
     "execution_count": 125,
     "metadata": {},
     "output_type": "execute_result"
    }
   ],
   "source": [
    "transformed_features.shape"
   ]
  },
  {
   "cell_type": "code",
   "execution_count": 126,
   "metadata": {},
   "outputs": [
    {
     "data": {
      "image/png": "[encoded data removed]",
      "text/plain": [
       "<Figure size 432x288 with 1 Axes>"
      ]
     },
     "metadata": {
      "needs_background": "light"
     },
     "output_type": "display_data"
    }
   ],
   "source": [
    "# Entire set \n",
    "scatter(transformed_features, ser5, 6510)"
   ]
  },
  {
   "cell_type": "markdown",
   "metadata": {},
   "source": [
    "# Observation and Analysis: \n",
    "- We began this Notebook with 10 Main Member Types, but the clustering model shows that there are 5 overarching groups. \n",
    "- Ostensibly, there appears to be 3 clusters: the green, the yellow, and a combination of the blue, teal, and purple. \n",
    "\n",
    "From this, B-Cycle could continue analyzing weather patterns with its product use to create a more reliable model. \n",
    "This model can eventually serve two innovative purposes: \n",
    "\n",
    "1. Allow B-Cycle to consolidate its member and price structure\n",
    "  - B-Cycle can better organize its usage information (managing 5 types is easier than 10) \n",
    "  - B-Cycle can combine similar ride groups to provide more inclusive Membership Options \n",
    "<br><br>\n",
    "2. Predict usage per member group on a given day and its weather pattern \n",
    "  - Given the weather, the DTRegressor model predicted expected ride time for a member with 40% accuracy\n",
    "  - Since its accuracy is 40%, we will not move forward with the model for predictive purposes\n",
    "  - The model can improve its accuracy by continued feature engineering and reducing dimensionality"
   ]
  }
 ],
 "metadata": {
  "kernelspec": {
   "display_name": "Python 3",
   "language": "python",
   "name": "python3"
  },
  "language_info": {
   "codemirror_mode": {
    "name": "ipython",
    "version": 3
   },
   "file_extension": ".py",
   "mimetype": "text/x-python",
   "name": "python",
   "nbconvert_exporter": "python",
   "pygments_lexer": "ipython3",
   "version": "3.7.1"
  }
 },
 "nbformat": 4,
 "nbformat_minor": 2
}
