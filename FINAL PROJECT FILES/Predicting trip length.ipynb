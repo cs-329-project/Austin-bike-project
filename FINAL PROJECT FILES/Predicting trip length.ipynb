{
 "cells": [
  {
   "cell_type": "markdown",
   "metadata": {},
   "source": [
    "# Predicting average trip length for a day"
   ]
  },
  {
   "cell_type": "markdown",
   "metadata": {},
   "source": [
    "## Setup\n",
    "\n",
    "We import relevant packages, perform setup work, and log in to Darwin."
   ]
  },
  {
   "cell_type": "code",
   "execution_count": 2,
   "metadata": {},
   "outputs": [],
   "source": [
    "from IPython.display import Image\n",
    "from time import sleep\n",
    "from sklearn.metrics import r2_score\n",
    "from datetime import datetime\n",
    "\n",
    "import pandas as pd\n",
    "import matplotlib.pyplot as plt\n",
    "%matplotlib inline\n",
    "ts = '{:%Y%m%d%H%M%S}'.format(datetime.now())"
   ]
  },
  {
   "cell_type": "code",
   "execution_count": 3,
   "metadata": {},
   "outputs": [
    {
     "name": "stdout",
     "output_type": "stream",
     "text": [
      "You are logged in.\n"
     ]
    }
   ],
   "source": [
    "from amb_sdk.sdk import DarwinSdk\n",
    "ds = DarwinSdk()\n",
    "ds.set_url('https://amb-demo-api.sparkcognition.com/v1/')\n",
    "\n",
    "# Logging in to Darwin.\n",
    "status, msg = ds.auth_login_user('nathanalvarezolson@utexas.edu', 'Hmy35qPZM4')\n",
    "print('You are logged in.' if status else msg)"
   ]
  },
  {
   "cell_type": "markdown",
   "metadata": {},
   "source": [
    "## Data Preparation\n",
    "Reading the BCycle / weather dataset. We trim some outliers, and save the new, edited dataset. We upload this dataset to Darwin."
   ]
  },
  {
   "cell_type": "code",
   "execution_count": 4,
   "metadata": {},
   "outputs": [
    {
     "data": {
      "text/html": [
       "<div>\n",
       "<style scoped>\n",
       "    .dataframe tbody tr th:only-of-type {\n",
       "        vertical-align: middle;\n",
       "    }\n",
       "\n",
       "    .dataframe tbody tr th {\n",
       "        vertical-align: top;\n",
       "    }\n",
       "\n",
       "    .dataframe thead th {\n",
       "        text-align: right;\n",
       "    }\n",
       "</style>\n",
       "<table border=\"1\" class=\"dataframe\">\n",
       "  <thead>\n",
       "    <tr style=\"text-align: right;\">\n",
       "      <th></th>\n",
       "      <th>Date</th>\n",
       "      <th>Month</th>\n",
       "      <th>Year</th>\n",
       "      <th>Weekday</th>\n",
       "      <th>Avg Trip Duration</th>\n",
       "      <th>Total Rides</th>\n",
       "      <th>TempHighF</th>\n",
       "      <th>TempAvgF</th>\n",
       "      <th>DewPointHighF</th>\n",
       "      <th>DewPointAvgF</th>\n",
       "      <th>WindHighMPH</th>\n",
       "      <th>WindAvgMPH</th>\n",
       "      <th>PrecipitationSumInches</th>\n",
       "      <th>Events</th>\n",
       "      <th>PrecipBins</th>\n",
       "    </tr>\n",
       "  </thead>\n",
       "  <tbody>\n",
       "    <tr>\n",
       "      <th>0</th>\n",
       "      <td>2013-12-21</td>\n",
       "      <td>12</td>\n",
       "      <td>2013</td>\n",
       "      <td>5</td>\n",
       "      <td>30.887</td>\n",
       "      <td>97</td>\n",
       "      <td>74</td>\n",
       "      <td>60</td>\n",
       "      <td>67</td>\n",
       "      <td>49</td>\n",
       "      <td>20</td>\n",
       "      <td>4</td>\n",
       "      <td>0.460</td>\n",
       "      <td>Rain , Thunderstorm</td>\n",
       "      <td>0.1-0.5</td>\n",
       "    </tr>\n",
       "    <tr>\n",
       "      <th>1</th>\n",
       "      <td>2013-12-22</td>\n",
       "      <td>12</td>\n",
       "      <td>2013</td>\n",
       "      <td>6</td>\n",
       "      <td>43.385</td>\n",
       "      <td>109</td>\n",
       "      <td>56</td>\n",
       "      <td>48</td>\n",
       "      <td>43</td>\n",
       "      <td>36</td>\n",
       "      <td>16</td>\n",
       "      <td>6</td>\n",
       "      <td>0.000</td>\n",
       "      <td>Sunny</td>\n",
       "      <td>0</td>\n",
       "    </tr>\n",
       "    <tr>\n",
       "      <th>2</th>\n",
       "      <td>2013-12-23</td>\n",
       "      <td>12</td>\n",
       "      <td>2013</td>\n",
       "      <td>0</td>\n",
       "      <td>57.376</td>\n",
       "      <td>93</td>\n",
       "      <td>58</td>\n",
       "      <td>45</td>\n",
       "      <td>31</td>\n",
       "      <td>27</td>\n",
       "      <td>8</td>\n",
       "      <td>3</td>\n",
       "      <td>0.000</td>\n",
       "      <td>Sunny</td>\n",
       "      <td>0</td>\n",
       "    </tr>\n",
       "    <tr>\n",
       "      <th>3</th>\n",
       "      <td>2013-12-24</td>\n",
       "      <td>12</td>\n",
       "      <td>2013</td>\n",
       "      <td>1</td>\n",
       "      <td>33.519</td>\n",
       "      <td>81</td>\n",
       "      <td>61</td>\n",
       "      <td>46</td>\n",
       "      <td>36</td>\n",
       "      <td>28</td>\n",
       "      <td>12</td>\n",
       "      <td>4</td>\n",
       "      <td>0.000</td>\n",
       "      <td>Sunny</td>\n",
       "      <td>0</td>\n",
       "    </tr>\n",
       "    <tr>\n",
       "      <th>4</th>\n",
       "      <td>2013-12-25</td>\n",
       "      <td>12</td>\n",
       "      <td>2013</td>\n",
       "      <td>2</td>\n",
       "      <td>50.695</td>\n",
       "      <td>141</td>\n",
       "      <td>58</td>\n",
       "      <td>50</td>\n",
       "      <td>44</td>\n",
       "      <td>40</td>\n",
       "      <td>10</td>\n",
       "      <td>2</td>\n",
       "      <td>0.005</td>\n",
       "      <td>Sunny</td>\n",
       "      <td>0.1-0.5</td>\n",
       "    </tr>\n",
       "  </tbody>\n",
       "</table>\n",
       "</div>"
      ],
      "text/plain": [
       "         Date  Month  Year  Weekday  Avg Trip Duration  Total Rides  \\\n",
       "0  2013-12-21     12  2013        5             30.887           97   \n",
       "1  2013-12-22     12  2013        6             43.385          109   \n",
       "2  2013-12-23     12  2013        0             57.376           93   \n",
       "3  2013-12-24     12  2013        1             33.519           81   \n",
       "4  2013-12-25     12  2013        2             50.695          141   \n",
       "\n",
       "   TempHighF  TempAvgF  DewPointHighF  DewPointAvgF  WindHighMPH  WindAvgMPH  \\\n",
       "0         74        60             67            49           20           4   \n",
       "1         56        48             43            36           16           6   \n",
       "2         58        45             31            27            8           3   \n",
       "3         61        46             36            28           12           4   \n",
       "4         58        50             44            40           10           2   \n",
       "\n",
       "   PrecipitationSumInches               Events PrecipBins  \n",
       "0                   0.460  Rain , Thunderstorm    0.1-0.5  \n",
       "1                   0.000                Sunny          0  \n",
       "2                   0.000                Sunny          0  \n",
       "3                   0.000                Sunny          0  \n",
       "4                   0.005                Sunny    0.1-0.5  "
      ]
     },
     "execution_count": 4,
     "metadata": {},
     "output_type": "execute_result"
    }
   ],
   "source": [
    "#Reading the dataset and shwoing the head so as to be confident.\n",
    "DATASET_NAME = 'final_cycle_weather_by_day.csv'\n",
    "\n",
    "df = pd.read_csv('./data/'+ DATASET_NAME)\n",
    "df.head()"
   ]
  },
  {
   "cell_type": "code",
   "execution_count": 5,
   "metadata": {},
   "outputs": [
    {
     "data": {
      "text/html": [
       "<div>\n",
       "<style scoped>\n",
       "    .dataframe tbody tr th:only-of-type {\n",
       "        vertical-align: middle;\n",
       "    }\n",
       "\n",
       "    .dataframe tbody tr th {\n",
       "        vertical-align: top;\n",
       "    }\n",
       "\n",
       "    .dataframe thead th {\n",
       "        text-align: right;\n",
       "    }\n",
       "</style>\n",
       "<table border=\"1\" class=\"dataframe\">\n",
       "  <thead>\n",
       "    <tr style=\"text-align: right;\">\n",
       "      <th></th>\n",
       "      <th>Date</th>\n",
       "      <th>Month</th>\n",
       "      <th>Year</th>\n",
       "      <th>Weekday</th>\n",
       "      <th>Avg Trip Duration</th>\n",
       "      <th>Total Rides</th>\n",
       "      <th>TempHighF</th>\n",
       "      <th>TempAvgF</th>\n",
       "      <th>DewPointHighF</th>\n",
       "      <th>DewPointAvgF</th>\n",
       "      <th>WindHighMPH</th>\n",
       "      <th>WindAvgMPH</th>\n",
       "      <th>PrecipitationSumInches</th>\n",
       "      <th>Events</th>\n",
       "      <th>PrecipBins</th>\n",
       "    </tr>\n",
       "  </thead>\n",
       "  <tbody>\n",
       "    <tr>\n",
       "      <th>0</th>\n",
       "      <td>2013-12-21</td>\n",
       "      <td>12</td>\n",
       "      <td>2013</td>\n",
       "      <td>5</td>\n",
       "      <td>30.887</td>\n",
       "      <td>97</td>\n",
       "      <td>74</td>\n",
       "      <td>60</td>\n",
       "      <td>67</td>\n",
       "      <td>49</td>\n",
       "      <td>20</td>\n",
       "      <td>4</td>\n",
       "      <td>0.460</td>\n",
       "      <td>Rain , Thunderstorm</td>\n",
       "      <td>0.1-0.5</td>\n",
       "    </tr>\n",
       "    <tr>\n",
       "      <th>1</th>\n",
       "      <td>2013-12-22</td>\n",
       "      <td>12</td>\n",
       "      <td>2013</td>\n",
       "      <td>6</td>\n",
       "      <td>43.385</td>\n",
       "      <td>109</td>\n",
       "      <td>56</td>\n",
       "      <td>48</td>\n",
       "      <td>43</td>\n",
       "      <td>36</td>\n",
       "      <td>16</td>\n",
       "      <td>6</td>\n",
       "      <td>0.000</td>\n",
       "      <td>Sunny</td>\n",
       "      <td>0</td>\n",
       "    </tr>\n",
       "    <tr>\n",
       "      <th>2</th>\n",
       "      <td>2013-12-23</td>\n",
       "      <td>12</td>\n",
       "      <td>2013</td>\n",
       "      <td>0</td>\n",
       "      <td>57.376</td>\n",
       "      <td>93</td>\n",
       "      <td>58</td>\n",
       "      <td>45</td>\n",
       "      <td>31</td>\n",
       "      <td>27</td>\n",
       "      <td>8</td>\n",
       "      <td>3</td>\n",
       "      <td>0.000</td>\n",
       "      <td>Sunny</td>\n",
       "      <td>0</td>\n",
       "    </tr>\n",
       "    <tr>\n",
       "      <th>3</th>\n",
       "      <td>2013-12-24</td>\n",
       "      <td>12</td>\n",
       "      <td>2013</td>\n",
       "      <td>1</td>\n",
       "      <td>33.519</td>\n",
       "      <td>81</td>\n",
       "      <td>61</td>\n",
       "      <td>46</td>\n",
       "      <td>36</td>\n",
       "      <td>28</td>\n",
       "      <td>12</td>\n",
       "      <td>4</td>\n",
       "      <td>0.000</td>\n",
       "      <td>Sunny</td>\n",
       "      <td>0</td>\n",
       "    </tr>\n",
       "    <tr>\n",
       "      <th>4</th>\n",
       "      <td>2013-12-25</td>\n",
       "      <td>12</td>\n",
       "      <td>2013</td>\n",
       "      <td>2</td>\n",
       "      <td>50.695</td>\n",
       "      <td>141</td>\n",
       "      <td>58</td>\n",
       "      <td>50</td>\n",
       "      <td>44</td>\n",
       "      <td>40</td>\n",
       "      <td>10</td>\n",
       "      <td>2</td>\n",
       "      <td>0.005</td>\n",
       "      <td>Sunny</td>\n",
       "      <td>0.1-0.5</td>\n",
       "    </tr>\n",
       "  </tbody>\n",
       "</table>\n",
       "</div>"
      ],
      "text/plain": [
       "         Date  Month  Year  Weekday  Avg Trip Duration  Total Rides  \\\n",
       "0  2013-12-21     12  2013        5             30.887           97   \n",
       "1  2013-12-22     12  2013        6             43.385          109   \n",
       "2  2013-12-23     12  2013        0             57.376           93   \n",
       "3  2013-12-24     12  2013        1             33.519           81   \n",
       "4  2013-12-25     12  2013        2             50.695          141   \n",
       "\n",
       "   TempHighF  TempAvgF  DewPointHighF  DewPointAvgF  WindHighMPH  WindAvgMPH  \\\n",
       "0         74        60             67            49           20           4   \n",
       "1         56        48             43            36           16           6   \n",
       "2         58        45             31            27            8           3   \n",
       "3         61        46             36            28           12           4   \n",
       "4         58        50             44            40           10           2   \n",
       "\n",
       "   PrecipitationSumInches               Events PrecipBins  \n",
       "0                   0.460  Rain , Thunderstorm    0.1-0.5  \n",
       "1                   0.000                Sunny          0  \n",
       "2                   0.000                Sunny          0  \n",
       "3                   0.000                Sunny          0  \n",
       "4                   0.005                Sunny    0.1-0.5  "
      ]
     },
     "execution_count": 5,
     "metadata": {},
     "output_type": "execute_result"
    }
   ],
   "source": [
    "# Trimming the outliers. Namely, we trim the days which have an average trip duration longer than an hour.\n",
    "# These data points had very negatively impacted our model's predictive power previously.\n",
    "df = df[df['Avg Trip Duration'] <= 60]\n",
    "\n",
    "df.head()"
   ]
  },
  {
   "cell_type": "code",
   "execution_count": 6,
   "metadata": {},
   "outputs": [],
   "source": [
    "# We save the new, edited dataset.\n",
    "df.to_csv('./data/' + 'cycle_weather_by_day_with_avgs_trimmed.csv', index = False)"
   ]
  },
  {
   "cell_type": "code",
   "execution_count": 7,
   "metadata": {},
   "outputs": [],
   "source": [
    "# Uploading the dataset to Darwin. Oftentimes this will not work, as the dataset has already been uploaded.\n",
    "\n",
    "#df.drop(columns='Avg Mode Trip Duration', inplace = True)\n",
    "DATASET_NAME = 'cycle_weather_by_day_with_avgs_trimmed.csv'\n",
    "status, dataset = ds.upload_dataset('./data/'+ DATASET_NAME)\n",
    "if not status:\n",
    "    print(dataset)"
   ]
  },
  {
   "cell_type": "markdown",
   "metadata": {},
   "source": [
    "## Data cleaning\n",
    "Cleaning data with Darwin."
   ]
  },
  {
   "cell_type": "code",
   "execution_count": 28,
   "metadata": {},
   "outputs": [
    {
     "name": "stdout",
     "output_type": "stream",
     "text": [
      "{'status': 'Requested', 'starttime': '2019-04-23T09:54:32.837898', 'endtime': None, 'percent_complete': 0, 'job_type': 'CleanDataTiny', 'loss': None, 'generations': None, 'dataset_names': ['cycle_weather_by_day_with_avgs_trimmed.csv'], 'artifact_names': ['d417b23977f8423086755cb79f57cf08'], 'model_name': None, 'job_error': None}\n",
      "{'status': 'Complete', 'starttime': '2019-04-23T09:54:32.837898', 'endtime': '2019-04-23T09:54:35.467418', 'percent_complete': 100, 'job_type': 'CleanDataTiny', 'loss': None, 'generations': None, 'dataset_names': ['cycle_weather_by_day_with_avgs_trimmed.csv'], 'artifact_names': ['d417b23977f8423086755cb79f57cf08'], 'model_name': None, 'job_error': ''}\n",
      "\n",
      "Data has been successfully cleaned!\n"
     ]
    }
   ],
   "source": [
    "# We aim to predict the average trip duration for a day. As such, we set this as the target column.\n",
    "target = 'Avg Trip Duration'\n",
    "status, job_id = ds.clean_data(dataset_name=DATASET_NAME, \n",
    "                               target= target)\n",
    "if not status:\n",
    "    print(job_id)\n",
    "else:\n",
    "    ds.wait_for_job(job_id['job_name'])\n",
    "    print('\\nData has been successfully cleaned!')"
   ]
  },
  {
   "cell_type": "markdown",
   "metadata": {},
   "source": [
    "## Model creation and training"
   ]
  },
  {
   "cell_type": "markdown",
   "metadata": {},
   "source": [
    "We build a model that will learn the class labels in the target column. We train for 3 minutes, which we found to be the optimal length. Training for longer (on this dataset) often resulted in overfitting."
   ]
  },
  {
   "cell_type": "code",
   "execution_count": 29,
   "metadata": {},
   "outputs": [
    {
     "name": "stdout",
     "output_type": "stream",
     "text": [
      "{'status': 'Requested', 'starttime': '2019-04-23T09:54:49.148525', 'endtime': None, 'percent_complete': 0, 'job_type': 'TrainModel', 'loss': None, 'generations': 0, 'dataset_names': ['cycle_weather_by_day_with_avgs_trimmed.csv'], 'artifact_names': None, 'model_name': 'Avg Trip Duration_model020190423091411', 'job_error': None}\n",
      "{'status': 'Running', 'starttime': '2019-04-23T09:54:49.148525', 'endtime': None, 'percent_complete': 1, 'job_type': 'TrainModel', 'loss': 0.49746644496917725, 'generations': 2, 'dataset_names': ['cycle_weather_by_day_with_avgs_trimmed.csv'], 'artifact_names': None, 'model_name': 'Avg Trip Duration_model020190423091411', 'job_error': ''}\n",
      "{'status': 'Running', 'starttime': '2019-04-23T09:54:49.148525', 'endtime': None, 'percent_complete': 1, 'job_type': 'TrainModel', 'loss': 0.49746644496917725, 'generations': 2, 'dataset_names': ['cycle_weather_by_day_with_avgs_trimmed.csv'], 'artifact_names': None, 'model_name': 'Avg Trip Duration_model020190423091411', 'job_error': ''}\n",
      "{'status': 'Running', 'starttime': '2019-04-23T09:54:49.148525', 'endtime': None, 'percent_complete': 1, 'job_type': 'TrainModel', 'loss': 0.49746644496917725, 'generations': 2, 'dataset_names': ['cycle_weather_by_day_with_avgs_trimmed.csv'], 'artifact_names': None, 'model_name': 'Avg Trip Duration_model020190423091411', 'job_error': ''}\n",
      "{'status': 'Running', 'starttime': '2019-04-23T09:54:49.148525', 'endtime': None, 'percent_complete': 1, 'job_type': 'TrainModel', 'loss': 0.49746644496917725, 'generations': 2, 'dataset_names': ['cycle_weather_by_day_with_avgs_trimmed.csv'], 'artifact_names': None, 'model_name': 'Avg Trip Duration_model020190423091411', 'job_error': ''}\n",
      "{'status': 'Running', 'starttime': '2019-04-23T09:54:49.148525', 'endtime': None, 'percent_complete': 1, 'job_type': 'TrainModel', 'loss': 0.49746644496917725, 'generations': 2, 'dataset_names': ['cycle_weather_by_day_with_avgs_trimmed.csv'], 'artifact_names': None, 'model_name': 'Avg Trip Duration_model020190423091411', 'job_error': ''}\n",
      "{'status': 'Running', 'starttime': '2019-04-23T09:54:49.148525', 'endtime': None, 'percent_complete': 1, 'job_type': 'TrainModel', 'loss': 0.49746644496917725, 'generations': 2, 'dataset_names': ['cycle_weather_by_day_with_avgs_trimmed.csv'], 'artifact_names': None, 'model_name': 'Avg Trip Duration_model020190423091411', 'job_error': ''}\n",
      "{'status': 'Running', 'starttime': '2019-04-23T09:54:49.148525', 'endtime': None, 'percent_complete': 33, 'job_type': 'TrainModel', 'loss': 0.4399625062942505, 'generations': 2, 'dataset_names': ['cycle_weather_by_day_with_avgs_trimmed.csv'], 'artifact_names': None, 'model_name': 'Avg Trip Duration_model020190423091411', 'job_error': ''}\n",
      "{'status': 'Running', 'starttime': '2019-04-23T09:54:49.148525', 'endtime': None, 'percent_complete': 33, 'job_type': 'TrainModel', 'loss': 0.4399625062942505, 'generations': 2, 'dataset_names': ['cycle_weather_by_day_with_avgs_trimmed.csv'], 'artifact_names': None, 'model_name': 'Avg Trip Duration_model020190423091411', 'job_error': ''}\n",
      "{'status': 'Running', 'starttime': '2019-04-23T09:54:49.148525', 'endtime': None, 'percent_complete': 33, 'job_type': 'TrainModel', 'loss': 0.4399625062942505, 'generations': 2, 'dataset_names': ['cycle_weather_by_day_with_avgs_trimmed.csv'], 'artifact_names': None, 'model_name': 'Avg Trip Duration_model020190423091411', 'job_error': ''}\n",
      "{'status': 'Running', 'starttime': '2019-04-23T09:54:49.148525', 'endtime': None, 'percent_complete': 33, 'job_type': 'TrainModel', 'loss': 0.4399625062942505, 'generations': 2, 'dataset_names': ['cycle_weather_by_day_with_avgs_trimmed.csv'], 'artifact_names': None, 'model_name': 'Avg Trip Duration_model020190423091411', 'job_error': ''}\n",
      "{'status': 'Running', 'starttime': '2019-04-23T09:54:49.148525', 'endtime': None, 'percent_complete': 33, 'job_type': 'TrainModel', 'loss': 0.4399625062942505, 'generations': 2, 'dataset_names': ['cycle_weather_by_day_with_avgs_trimmed.csv'], 'artifact_names': None, 'model_name': 'Avg Trip Duration_model020190423091411', 'job_error': ''}\n",
      "{'status': 'Running', 'starttime': '2019-04-23T09:54:49.148525', 'endtime': None, 'percent_complete': 33, 'job_type': 'TrainModel', 'loss': 0.4399625062942505, 'generations': 2, 'dataset_names': ['cycle_weather_by_day_with_avgs_trimmed.csv'], 'artifact_names': None, 'model_name': 'Avg Trip Duration_model020190423091411', 'job_error': ''}\n",
      "{'status': 'Complete', 'starttime': '2019-04-23T09:54:49.148525', 'endtime': '2019-04-23T09:58:01.368734', 'percent_complete': 100, 'job_type': 'TrainModel', 'loss': 0.4399625062942505, 'generations': 2, 'dataset_names': ['cycle_weather_by_day_with_avgs_trimmed.csv'], 'artifact_names': None, 'model_name': 'Avg Trip Duration_model020190423091411', 'job_error': ''}\n"
     ]
    }
   ],
   "source": [
    "model = target + \"_model0\" + ts\n",
    "status, job_id = ds.create_model(dataset_names = DATASET_NAME, \\\n",
    "                                 model_name =  model, \\\n",
    "                                 max_train_time = '00:03')\n",
    "if status:\n",
    "    ds.wait_for_job(job_id['job_name'])\n",
    "else:\n",
    "    print(job_id)"
   ]
  },
  {
   "cell_type": "markdown",
   "metadata": {},
   "source": [
    "## Model analysis\n",
    "\n",
    "Darwin analyzes the model, and reports which features have a larger impact on the model."
   ]
  },
  {
   "cell_type": "code",
   "execution_count": 30,
   "metadata": {},
   "outputs": [
    {
     "name": "stdout",
     "output_type": "stream",
     "text": [
      "{'status': 'Complete', 'starttime': '2019-04-23T09:58:06.572614', 'endtime': '2019-04-23T09:58:07.902929', 'percent_complete': 100, 'job_type': 'AnalyzeModel', 'loss': 0.4399625062942505, 'generations': 2, 'dataset_names': None, 'artifact_names': ['0b10ec0a00624de48e7e1f9754f906ec'], 'model_name': 'Avg Trip Duration_model020190423091411', 'job_error': ''}\n"
     ]
    }
   ],
   "source": [
    "# We analyze the model Darwin built\n",
    "status, artifact = ds.analyze_model(model)\n",
    "sleep(1)\n",
    "if status:\n",
    "    ds.wait_for_job(artifact['job_name'])\n",
    "else:\n",
    "    print(artifact)\n",
    "status, feature_importance = ds.download_artifact(artifact['artifact_name'])"
   ]
  },
  {
   "cell_type": "code",
   "execution_count": 31,
   "metadata": {},
   "outputs": [
    {
     "name": "stdout",
     "output_type": "stream",
     "text": [
      "The most important features are:\n",
      "Total Rides               0.390990\n",
      "Weekday = 6               0.151812\n",
      "Weekday = 5               0.096007\n",
      "TempHighF                 0.072887\n",
      "TempAvgF                  0.046993\n",
      "Year = 2015               0.019230\n",
      "DewPointHighF             0.018874\n",
      "Weekday = 4               0.017748\n",
      "WindHighMPH               0.017498\n",
      "PrecipitationSumInches    0.016551\n",
      "dtype: float64\n"
     ]
    }
   ],
   "source": [
    "# Showing the 10 most important features of the model.\n",
    "print('The most important features are:')\n",
    "print(feature_importance[:10])"
   ]
  },
  {
   "cell_type": "markdown",
   "metadata": {},
   "source": [
    "It is interesting to note is the features that are the most important. Firstly, the total number of rides in a day has a large effect on the average ride length. The other features are not too surprising: the high and average temperature (which may discourage riders), whether it is Friday or Saturday or Sunday (Weekday = 4, 5, 6), and the wind speed. "
   ]
  },
  {
   "cell_type": "markdown",
   "metadata": {},
   "source": [
    "## Predictions\n",
    "In creating the model, Darwin previously withheld a portion of the dataset for testing. We use our model to predict the target column label (in this case, average trip length) on this testing set. We then download the predictions from Darwin's server."
   ]
  },
  {
   "cell_type": "code",
   "execution_count": 32,
   "metadata": {},
   "outputs": [
    {
     "name": "stdout",
     "output_type": "stream",
     "text": [
      "{'status': 'Running', 'starttime': '2019-04-23T09:58:09.3578', 'endtime': None, 'percent_complete': 0, 'job_type': 'RunModel', 'loss': 0.4399625062942505, 'generations': 2, 'dataset_names': ['cycle_weather_by_day_with_avgs_trimmed.csv'], 'artifact_names': ['1bd5cd131baa449bbf72d57e0ae8b8a7'], 'model_name': 'Avg Trip Duration_model020190423091411', 'job_error': ''}\n",
      "{'status': 'Complete', 'starttime': '2019-04-23T09:58:09.3578', 'endtime': '2019-04-23T09:58:17.42185', 'percent_complete': 100, 'job_type': 'RunModel', 'loss': 0.4399625062942505, 'generations': 2, 'dataset_names': ['cycle_weather_by_day_with_avgs_trimmed.csv'], 'artifact_names': ['1bd5cd131baa449bbf72d57e0ae8b8a7'], 'model_name': 'Avg Trip Duration_model020190423091411', 'job_error': ''}\n"
     ]
    },
    {
     "data": {
      "text/plain": [
       "(True, 'Job completed')"
      ]
     },
     "execution_count": 32,
     "metadata": {},
     "output_type": "execute_result"
    }
   ],
   "source": [
    "status, artifact = ds.run_model(DATASET_NAME, model)\n",
    "sleep(1)\n",
    "ds.wait_for_job(artifact['job_name'])"
   ]
  },
  {
   "cell_type": "code",
   "execution_count": 33,
   "metadata": {},
   "outputs": [],
   "source": [
    "# Downloading predictions\n",
    "status, prediction = ds.download_artifact(artifact['artifact_name'])"
   ]
  },
  {
   "cell_type": "markdown",
   "metadata": {},
   "source": [
    "## Model accuracy\n",
    "We create a plot to compare the predicted label  with the actual label. We also get the $R^2$ score."
   ]
  },
  {
   "cell_type": "code",
   "execution_count": 34,
   "metadata": {},
   "outputs": [
    {
     "name": "stdout",
     "output_type": "stream",
     "text": [
      "R^2 :  0.5949243053905306\n"
     ]
    },
    {
     "data": {
      "image/png": "[encoded data removed]",
      "text/plain": [
       "<Figure size 432x288 with 1 Axes>"
      ]
     },
     "metadata": {
      "needs_background": "light"
     },
     "output_type": "display_data"
    }
   ],
   "source": [
    "#Plot predictions vs actual\n",
    "plt.plot(df[target], prediction[target], '.')\n",
    "plt.plot([0,75],[0,75],'--k')\n",
    "plt.xlabel('Actual avg. trip length')\n",
    "plt.ylabel('Predicted avg. trip length')\n",
    "print('R^2 : ', r2_score(df[target], prediction[target]))"
   ]
  },
  {
   "cell_type": "markdown",
   "metadata": {},
   "source": [
    "Note that our $R^2 = 0.638$ score is not bad. Remember, however, that we excluded days with average trip durations longer than one hour, as these severely impacted the accuracy of our model."
   ]
  },
  {
   "cell_type": "code",
   "execution_count": 35,
   "metadata": {},
   "outputs": [
    {
     "name": "stdout",
     "output_type": "stream",
     "text": [
      "Our model was of type: [{'layer 1': {'type': 'LinearGene', 'parameters': {'activation': 'relu', 'numunits': 82}}}, {'layer 2': {'type': 'LinearGene', 'parameters': {'activation': 'relu', 'numunits': 1}}}]\n",
      "Our best parameters were: \n",
      "\n"
     ]
    },
    {
     "ename": "TypeError",
     "evalue": "list indices must be integers or slices, not str",
     "output_type": "error",
     "traceback": [
      "\u001b[0;31m---------------------------------------------------------------------------\u001b[0m",
      "\u001b[0;31mTypeError\u001b[0m                                 Traceback (most recent call last)",
      "\u001b[0;32m<ipython-input-35-37f1eccb2986>\u001b[0m in \u001b[0;36m<module>\u001b[0;34m\u001b[0m\n\u001b[1;32m      4\u001b[0m \u001b[0mprint\u001b[0m\u001b[0;34m(\u001b[0m\u001b[0;34m'Our best parameters were:'\u001b[0m\u001b[0;34m,\u001b[0m \u001b[0;34m'\\n'\u001b[0m\u001b[0;34m)\u001b[0m\u001b[0;34m\u001b[0m\u001b[0;34m\u001b[0m\u001b[0m\n\u001b[1;32m      5\u001b[0m \u001b[0;34m\u001b[0m\u001b[0m\n\u001b[0;32m----> 6\u001b[0;31m \u001b[0;32mfor\u001b[0m \u001b[0mparameter\u001b[0m \u001b[0;32min\u001b[0m \u001b[0mmodel_type\u001b[0m\u001b[0;34m[\u001b[0m\u001b[0;34m'description'\u001b[0m\u001b[0;34m]\u001b[0m\u001b[0;34m[\u001b[0m\u001b[0;34m'best_genome'\u001b[0m\u001b[0;34m]\u001b[0m\u001b[0;34m[\u001b[0m\u001b[0;34m'parameters'\u001b[0m\u001b[0;34m]\u001b[0m\u001b[0;34m:\u001b[0m\u001b[0;34m\u001b[0m\u001b[0;34m\u001b[0m\u001b[0m\n\u001b[0m\u001b[1;32m      7\u001b[0m     \u001b[0mprint\u001b[0m\u001b[0;34m(\u001b[0m\u001b[0mparameter\u001b[0m\u001b[0;34m,\u001b[0m \u001b[0;34m':'\u001b[0m\u001b[0;34m,\u001b[0m \u001b[0mmodel_type\u001b[0m\u001b[0;34m[\u001b[0m\u001b[0;34m'description'\u001b[0m\u001b[0;34m]\u001b[0m\u001b[0;34m[\u001b[0m\u001b[0;34m'best_genome'\u001b[0m\u001b[0;34m]\u001b[0m\u001b[0;34m[\u001b[0m\u001b[0;34m'parameters'\u001b[0m\u001b[0;34m]\u001b[0m\u001b[0;34m[\u001b[0m\u001b[0mparameter\u001b[0m\u001b[0;34m]\u001b[0m\u001b[0;34m)\u001b[0m\u001b[0;34m\u001b[0m\u001b[0;34m\u001b[0m\u001b[0m\n",
      "\u001b[0;31mTypeError\u001b[0m: list indices must be integers or slices, not str"
     ]
    }
   ],
   "source": [
    "# We print the best parameters\n",
    "status, model_type = ds.lookup_model_name(model)\n",
    "print('Our model was of type:', model_type['description']['best_genome'])\n",
    "print('Our best parameters were:', '\\n')\n",
    "\n",
    "for parameter in model_type['description']['best_genome']['parameters']:\n",
    "    print(parameter, ':', model_type['description']['best_genome']['parameters'][parameter])"
   ]
  },
  {
   "cell_type": "code",
   "execution_count": null,
   "metadata": {},
   "outputs": [],
   "source": [
    "# This cell can be used to delete the model, in the case that Darwin fails and needs to be run again.\n",
    "ds.delete_model(model)"
   ]
  },
  {
   "cell_type": "code",
   "execution_count": null,
   "metadata": {},
   "outputs": [],
   "source": []
  }
 ],
 "metadata": {
  "kernelspec": {
   "display_name": "CS_329E",
   "language": "python",
   "name": "cs_329e"
  },
  "language_info": {
   "codemirror_mode": {
    "name": "ipython",
    "version": 3
   },
   "file_extension": ".py",
   "mimetype": "text/x-python",
   "name": "python",
   "nbconvert_exporter": "python",
   "pygments_lexer": "ipython3",
   "version": "3.7.2"
  }
 },
 "nbformat": 4,
 "nbformat_minor": 2
}
