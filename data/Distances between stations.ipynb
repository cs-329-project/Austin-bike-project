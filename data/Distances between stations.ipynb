{
 "cells": [
  {
   "cell_type": "code",
   "execution_count": 1,
   "metadata": {},
   "outputs": [],
   "source": [
    "import sklearn as sk\n",
    "import pandas as pd\n",
    "import numpy as np\n",
    "from os import getenv\n",
    "from datetime import datetime\n",
    "from amb_sdk.sdk import DarwinSdk\n",
    "import matplotlib.pyplot as plt\n",
    "%matplotlib inline\n",
    "\n",
    "pd.set_option('display.max_rows', None)"
   ]
  },
  {
   "cell_type": "code",
   "execution_count": 2,
   "metadata": {},
   "outputs": [
    {
     "data": {
      "text/plain": [
       "True"
      ]
     },
     "execution_count": 2,
     "metadata": {},
     "output_type": "execute_result"
    }
   ],
   "source": [
    "ds = DarwinSdk()\n",
    "ds.set_url('https://amb-demo-api.sparkcognition.com/v1/')\n",
    "\n",
    "status, msg = ds.auth_login_user('nathanalvarezolson@utexas.edu','Hmy35qPZM4')\n",
    "if not status:\n",
    "    print(msg)\n",
    "status"
   ]
  },
  {
   "cell_type": "code",
   "execution_count": 3,
   "metadata": {},
   "outputs": [],
   "source": [
    "cycle_df = pd.read_csv('./Austin_B-Cycle_Trips.csv')\n",
    "weather_df = pd.read_csv('./austin_weather.csv')\n",
    "stations_df = pd.read_csv('austin_bikeshare_stations.csv')"
   ]
  },
  {
   "cell_type": "code",
   "execution_count": 4,
   "metadata": {},
   "outputs": [
    {
     "data": {
      "text/html": [
       "<div>\n",
       "<style scoped>\n",
       "    .dataframe tbody tr th:only-of-type {\n",
       "        vertical-align: middle;\n",
       "    }\n",
       "\n",
       "    .dataframe tbody tr th {\n",
       "        vertical-align: top;\n",
       "    }\n",
       "\n",
       "    .dataframe thead th {\n",
       "        text-align: right;\n",
       "    }\n",
       "</style>\n",
       "<table border=\"1\" class=\"dataframe\">\n",
       "  <thead>\n",
       "    <tr style=\"text-align: right;\">\n",
       "      <th></th>\n",
       "      <th>latitude</th>\n",
       "      <th>location</th>\n",
       "      <th>longitude</th>\n",
       "      <th>name</th>\n",
       "      <th>station_id</th>\n",
       "      <th>status</th>\n",
       "    </tr>\n",
       "  </thead>\n",
       "  <tbody>\n",
       "    <tr>\n",
       "      <th>0</th>\n",
       "      <td>30.27041</td>\n",
       "      <td>(30.27041 -97.75046)</td>\n",
       "      <td>-97.75046</td>\n",
       "      <td>West &amp; 6th St.</td>\n",
       "      <td>2537</td>\n",
       "      <td>active</td>\n",
       "    </tr>\n",
       "    <tr>\n",
       "      <th>1</th>\n",
       "      <td>30.26452</td>\n",
       "      <td>(30.26452 -97.7712)</td>\n",
       "      <td>-97.77120</td>\n",
       "      <td>Barton Springs Pool</td>\n",
       "      <td>2572</td>\n",
       "      <td>active</td>\n",
       "    </tr>\n",
       "    <tr>\n",
       "      <th>2</th>\n",
       "      <td>30.27595</td>\n",
       "      <td>(30.27595 -97.74739)</td>\n",
       "      <td>-97.74739</td>\n",
       "      <td>ACC - Rio Grande &amp; 12th</td>\n",
       "      <td>2545</td>\n",
       "      <td>closed</td>\n",
       "    </tr>\n",
       "    <tr>\n",
       "      <th>3</th>\n",
       "      <td>30.28480</td>\n",
       "      <td>(30.2848 -97.72756)</td>\n",
       "      <td>-97.72756</td>\n",
       "      <td>Red River &amp; LBJ Library</td>\n",
       "      <td>1004</td>\n",
       "      <td>closed</td>\n",
       "    </tr>\n",
       "    <tr>\n",
       "      <th>4</th>\n",
       "      <td>30.26694</td>\n",
       "      <td>(30.26694 -97.74939)</td>\n",
       "      <td>-97.74939</td>\n",
       "      <td>Nueces @ 3rd</td>\n",
       "      <td>1008</td>\n",
       "      <td>moved</td>\n",
       "    </tr>\n",
       "  </tbody>\n",
       "</table>\n",
       "</div>"
      ],
      "text/plain": [
       "   latitude              location  longitude                     name  \\\n",
       "0  30.27041  (30.27041 -97.75046)  -97.75046           West & 6th St.   \n",
       "1  30.26452   (30.26452 -97.7712)  -97.77120      Barton Springs Pool   \n",
       "2  30.27595  (30.27595 -97.74739)  -97.74739  ACC - Rio Grande & 12th   \n",
       "3  30.28480   (30.2848 -97.72756)  -97.72756  Red River & LBJ Library   \n",
       "4  30.26694  (30.26694 -97.74939)  -97.74939             Nueces @ 3rd   \n",
       "\n",
       "   station_id  status  \n",
       "0        2537  active  \n",
       "1        2572  active  \n",
       "2        2545  closed  \n",
       "3        1004  closed  \n",
       "4        1008   moved  "
      ]
     },
     "execution_count": 4,
     "metadata": {},
     "output_type": "execute_result"
    }
   ],
   "source": [
    "stations_df.head()"
   ]
  },
  {
   "cell_type": "code",
   "execution_count": 5,
   "metadata": {},
   "outputs": [],
   "source": [
    "# May have to uncomment out the following line in order to run. Installing distance\n",
    "#!pip install geopy\n",
    "from geopy import distance"
   ]
  },
  {
   "cell_type": "code",
   "execution_count": 6,
   "metadata": {},
   "outputs": [],
   "source": [
    "# Doing a Cartesian product on the stations dataframe, so we may have pairs of stations\n",
    "from pandas import merge\n",
    "\n",
    "stations_df['merge_key'] = 0\n",
    "pairs_of_stations_df = stations_df.merge(stations_df, how='left', on = 'merge_key')"
   ]
  },
  {
   "cell_type": "code",
   "execution_count": 7,
   "metadata": {},
   "outputs": [],
   "source": [
    "# Calculating distance with the geopy.distance method\n",
    "\n",
    "pairs_of_stations_df['distance_miles'] = 1.1\n",
    "\n",
    "for i in range(len(pairs_of_stations_df)):\n",
    "    location1 = (pairs_of_stations_df.loc[i, 'latitude_x'] , pairs_of_stations_df.loc[i, 'longitude_x'] )\n",
    "    location2 = (pairs_of_stations_df.loc[i, 'latitude_y'] , pairs_of_stations_df.loc[i, 'longitude_y'] )\n",
    "    pairs_of_stations_df.loc[i, 'distance_miles'] = distance.distance(location1, location2).miles"
   ]
  },
  {
   "cell_type": "code",
   "execution_count": 8,
   "metadata": {},
   "outputs": [
    {
     "name": "stdout",
     "output_type": "stream",
     "text": [
      "           name_x  station_id_x                   name_y  station_id_y  \\\n",
      "0  West & 6th St.          2537           West & 6th St.          2537   \n",
      "1  West & 6th St.          2537      Barton Springs Pool          2572   \n",
      "2  West & 6th St.          2537  ACC - Rio Grande & 12th          2545   \n",
      "3  West & 6th St.          2537  Red River & LBJ Library          1004   \n",
      "4  West & 6th St.          2537             Nueces @ 3rd          1008   \n",
      "\n",
      "   distance_miles  \n",
      "0        0.000000  \n",
      "1        1.304777  \n",
      "2        0.423463  \n",
      "3        1.690263  \n",
      "4        0.247439  \n"
     ]
    }
   ],
   "source": [
    "# Dropping the irrelevant columns\n",
    "pairs_of_stations_df.drop(['latitude_x', 'location_x', 'longitude_x', 'status_x', 'merge_key',\n",
    "                           'latitude_y', 'location_y', 'longitude_y', 'status_y'],1, inplace=True)\n",
    "\n",
    "print(pairs_of_stations_df.head())"
   ]
  },
  {
   "cell_type": "code",
   "execution_count": 9,
   "metadata": {},
   "outputs": [],
   "source": [
    "pairs_of_stations_df.to_csv('station_pairs_dist.csv', index=False)"
   ]
  },
  {
   "cell_type": "code",
   "execution_count": null,
   "metadata": {},
   "outputs": [],
   "source": []
  }
 ],
 "metadata": {
  "kernelspec": {
   "display_name": "Python 3",
   "language": "python",
   "name": "python3"
  },
  "language_info": {
   "codemirror_mode": {
    "name": "ipython",
    "version": 3
   },
   "file_extension": ".py",
   "mimetype": "text/x-python",
   "name": "python",
   "nbconvert_exporter": "python",
   "pygments_lexer": "ipython3",
   "version": "3.7.1"
  }
 },
 "nbformat": 4,
 "nbformat_minor": 2
}
