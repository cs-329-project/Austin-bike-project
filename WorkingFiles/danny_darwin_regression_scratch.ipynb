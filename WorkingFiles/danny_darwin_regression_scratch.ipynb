{
 "cells": [
  {
   "cell_type": "code",
   "execution_count": 103,
   "metadata": {},
   "outputs": [],
   "source": [
    "from IPython.display import Image\n",
    "from time import sleep\n",
    "from sklearn.metrics import r2_score\n",
    "from datetime import datetime\n",
    "\n",
    "import pandas as pd\n",
    "import matplotlib.pyplot as plt\n",
    "%matplotlib inline\n",
    "\n",
    "\n",
    "\"\"\"Onely have 1 DATASET_NAME uncommented.\"\"\"\n",
    "# DATASET_NAME = 'kiosk_weather_by_day.csv'\n",
    "#DATASET_NAME = 'cycle_weather_by_day.csv'\n",
    "DATASET_NAME = 'cycle_weather_by_day_duration_avg.csv'\n",
    "\n",
    "ts = '{:%Y%m%d%H%M%S}'.format(datetime.now())"
   ]
  },
  {
   "cell_type": "code",
   "execution_count": null,
   "metadata": {},
   "outputs": [],
   "source": []
  },
  {
   "cell_type": "code",
   "execution_count": 104,
   "metadata": {},
   "outputs": [
    {
     "name": "stdout",
     "output_type": "stream",
     "text": [
      "You are logged in:  True\n"
     ]
    }
   ],
   "source": [
    "\n",
    "from amb_sdk.sdk import DarwinSdk\n",
    "ds = DarwinSdk()\n",
    "ds.set_url('https://amb-demo-api.sparkcognition.com/v1/')\n",
    "\n",
    "status, msg = ds.auth_login_user('danny.diaz@utexas.edu', 'JcXCnQ7Wx2')\n",
    "if not status:\n",
    "    print(msg)\n",
    "else:\n",
    "    print('You are logged in: ',status)\n"
   ]
  },
  {
   "cell_type": "code",
   "execution_count": 105,
   "metadata": {},
   "outputs": [],
   "source": [
    "# ds.get_info()\n",
    "# ds.lookup_job_status()\n",
    "# ds.lookup_job_status_name(job_name)\n",
    "# ds.delete_job(job_name)\n",
    "# ds.stop_job(job_name) \n"
   ]
  },
  {
   "cell_type": "markdown",
   "metadata": {},
   "source": [
    "# Data Upload\n",
    "**Read dataset and view a file snippet**"
   ]
  },
  {
   "cell_type": "code",
   "execution_count": 106,
   "metadata": {},
   "outputs": [
    {
     "data": {
      "text/html": [
       "<div>\n",
       "<style scoped>\n",
       "    .dataframe tbody tr th:only-of-type {\n",
       "        vertical-align: middle;\n",
       "    }\n",
       "\n",
       "    .dataframe tbody tr th {\n",
       "        vertical-align: top;\n",
       "    }\n",
       "\n",
       "    .dataframe thead th {\n",
       "        text-align: right;\n",
       "    }\n",
       "</style>\n",
       "<table border=\"1\" class=\"dataframe\">\n",
       "  <thead>\n",
       "    <tr style=\"text-align: right;\">\n",
       "      <th></th>\n",
       "      <th>Date</th>\n",
       "      <th>Month</th>\n",
       "      <th>Year</th>\n",
       "      <th>Weekday</th>\n",
       "      <th>Avg Trip Duration</th>\n",
       "      <th>Total Rides</th>\n",
       "      <th>TempHighF</th>\n",
       "      <th>TempAvgF</th>\n",
       "      <th>DewPointHighF</th>\n",
       "      <th>DewPointAvgF</th>\n",
       "      <th>WindHighMPH</th>\n",
       "      <th>WindAvgMPH</th>\n",
       "      <th>PrecipitationSumInches</th>\n",
       "      <th>Events</th>\n",
       "      <th>PrecipBins</th>\n",
       "    </tr>\n",
       "  </thead>\n",
       "  <tbody>\n",
       "    <tr>\n",
       "      <th>0</th>\n",
       "      <td>2013-12-21</td>\n",
       "      <td>12</td>\n",
       "      <td>2013</td>\n",
       "      <td>5</td>\n",
       "      <td>29.136</td>\n",
       "      <td>103</td>\n",
       "      <td>74</td>\n",
       "      <td>60</td>\n",
       "      <td>67</td>\n",
       "      <td>49</td>\n",
       "      <td>20</td>\n",
       "      <td>4</td>\n",
       "      <td>0.460</td>\n",
       "      <td>Rain , Thunderstorm</td>\n",
       "      <td>0.1-0.5</td>\n",
       "    </tr>\n",
       "    <tr>\n",
       "      <th>1</th>\n",
       "      <td>2013-12-22</td>\n",
       "      <td>12</td>\n",
       "      <td>2013</td>\n",
       "      <td>6</td>\n",
       "      <td>40.462</td>\n",
       "      <td>117</td>\n",
       "      <td>56</td>\n",
       "      <td>48</td>\n",
       "      <td>43</td>\n",
       "      <td>36</td>\n",
       "      <td>16</td>\n",
       "      <td>6</td>\n",
       "      <td>0.000</td>\n",
       "      <td>Sunny</td>\n",
       "      <td>0</td>\n",
       "    </tr>\n",
       "    <tr>\n",
       "      <th>2</th>\n",
       "      <td>2013-12-23</td>\n",
       "      <td>12</td>\n",
       "      <td>2013</td>\n",
       "      <td>0</td>\n",
       "      <td>55.604</td>\n",
       "      <td>96</td>\n",
       "      <td>58</td>\n",
       "      <td>45</td>\n",
       "      <td>31</td>\n",
       "      <td>27</td>\n",
       "      <td>8</td>\n",
       "      <td>3</td>\n",
       "      <td>0.000</td>\n",
       "      <td>Sunny</td>\n",
       "      <td>0</td>\n",
       "    </tr>\n",
       "    <tr>\n",
       "      <th>3</th>\n",
       "      <td>2013-12-24</td>\n",
       "      <td>12</td>\n",
       "      <td>2013</td>\n",
       "      <td>1</td>\n",
       "      <td>31.965</td>\n",
       "      <td>85</td>\n",
       "      <td>61</td>\n",
       "      <td>46</td>\n",
       "      <td>36</td>\n",
       "      <td>28</td>\n",
       "      <td>12</td>\n",
       "      <td>4</td>\n",
       "      <td>0.000</td>\n",
       "      <td>Sunny</td>\n",
       "      <td>0</td>\n",
       "    </tr>\n",
       "    <tr>\n",
       "      <th>4</th>\n",
       "      <td>2013-12-25</td>\n",
       "      <td>12</td>\n",
       "      <td>2013</td>\n",
       "      <td>2</td>\n",
       "      <td>49.297</td>\n",
       "      <td>145</td>\n",
       "      <td>58</td>\n",
       "      <td>50</td>\n",
       "      <td>44</td>\n",
       "      <td>40</td>\n",
       "      <td>10</td>\n",
       "      <td>2</td>\n",
       "      <td>0.005</td>\n",
       "      <td>Sunny</td>\n",
       "      <td>0.1-0.5</td>\n",
       "    </tr>\n",
       "  </tbody>\n",
       "</table>\n",
       "</div>"
      ],
      "text/plain": [
       "         Date  Month  Year  Weekday  Avg Trip Duration  Total Rides  \\\n",
       "0  2013-12-21     12  2013        5             29.136          103   \n",
       "1  2013-12-22     12  2013        6             40.462          117   \n",
       "2  2013-12-23     12  2013        0             55.604           96   \n",
       "3  2013-12-24     12  2013        1             31.965           85   \n",
       "4  2013-12-25     12  2013        2             49.297          145   \n",
       "\n",
       "   TempHighF  TempAvgF  DewPointHighF  DewPointAvgF  WindHighMPH  WindAvgMPH  \\\n",
       "0         74        60             67            49           20           4   \n",
       "1         56        48             43            36           16           6   \n",
       "2         58        45             31            27            8           3   \n",
       "3         61        46             36            28           12           4   \n",
       "4         58        50             44            40           10           2   \n",
       "\n",
       "   PrecipitationSumInches               Events PrecipBins  \n",
       "0                   0.460  Rain , Thunderstorm    0.1-0.5  \n",
       "1                   0.000                Sunny          0  \n",
       "2                   0.000                Sunny          0  \n",
       "3                   0.000                Sunny          0  \n",
       "4                   0.005                Sunny    0.1-0.5  "
      ]
     },
     "execution_count": 106,
     "metadata": {},
     "output_type": "execute_result"
    }
   ],
   "source": [
    "df = pd.read_csv('./data/'+DATASET_NAME)\n",
    "#print(df.dtypes)\n",
    "df.head()"
   ]
  },
  {
   "cell_type": "markdown",
   "metadata": {},
   "source": [
    "**Upload dataset to Darwin**"
   ]
  },
  {
   "cell_type": "code",
   "execution_count": 107,
   "metadata": {},
   "outputs": [
    {
     "name": "stdout",
     "output_type": "stream",
     "text": [
      "False\n",
      "400: BAD REQUEST - {\"message\": \"Dataset already exists\"}\n",
      "\n",
      "400: BAD REQUEST - {\"message\": \"Dataset already exists\"}\n",
      "\n"
     ]
    }
   ],
   "source": [
    "status, dataset = ds.upload_dataset('./data/'+DATASET_NAME)\n",
    "print(status)\n",
    "print(dataset)\n",
    "\n",
    "if not status:\n",
    "    print(dataset)"
   ]
  },
  {
   "cell_type": "markdown",
   "metadata": {},
   "source": [
    "   # Clean Data"
   ]
  },
  {
   "cell_type": "code",
   "execution_count": 108,
   "metadata": {},
   "outputs": [
    {
     "name": "stdout",
     "output_type": "stream",
     "text": [
      "{'status': 'Requested', 'starttime': '2019-04-21T10:42:47.90888', 'endtime': None, 'percent_complete': 0, 'job_type': 'CleanDataTiny', 'loss': None, 'generations': None, 'dataset_names': ['cycle_weather_by_day_duration_avg.csv'], 'artifact_names': ['baeffe1613474188b96c320873218403'], 'model_name': None, 'job_error': None}\n",
      "{'status': 'Failed', 'starttime': '2019-04-21T10:42:47.90888', 'endtime': '2019-04-21T10:42:48.576781', 'percent_complete': 100, 'job_type': 'CleanDataTiny', 'loss': None, 'generations': None, 'dataset_names': ['cycle_weather_by_day_duration_avg.csv'], 'artifact_names': ['baeffe1613474188b96c320873218403'], 'model_name': None, 'job_error': \"FailedDownload: Failed to download entity of type File from location ['datasets/20ec826a-4fc6-11e9-b56b-7f7f89ca7302_cycle_weather_by_day_duration_avg.csv.csv']\"}\n",
      "\n",
      "Data has been successfully cleaned!\n"
     ]
    }
   ],
   "source": [
    "\"\"\"\n",
    "The avg trip duration has a few outliers that are throwing off the data. Need to remove any trips over \n",
    "60 minutes.\n",
    "\"\"\"\n",
    "#target = 'Avg Trip Duration'\n",
    "target = 'Total Rides'\n",
    "status, job_id = ds.clean_data(dataset_name=DATASET_NAME, \n",
    "                               target= target)\n",
    "if not status:\n",
    "    print(job_id)\n",
    "else:\n",
    "    ds.wait_for_job(job_id['job_name'])\n",
    "    print('\\nData has been successfully cleaned!')"
   ]
  },
  {
   "cell_type": "markdown",
   "metadata": {},
   "source": [
    "# Create and Train Model"
   ]
  },
  {
   "cell_type": "markdown",
   "metadata": {},
   "source": [
    "We will now build a model that will learn the class labels in the target column.<br> In the default boston dataset, the target column is \"Assessed_Value\". <br> You will have to specify your own target name for your custom dataset. <br> You can also increase max_train_time for longer training.\n",
    "\n",
    "\n"
   ]
  },
  {
   "cell_type": "code",
   "execution_count": 109,
   "metadata": {},
   "outputs": [
    {
     "name": "stdout",
     "output_type": "stream",
     "text": [
      "{'status': 'Taken', 'starttime': '2019-04-21T10:43:04.365298', 'endtime': None, 'percent_complete': 0, 'job_type': 'TrainModel', 'loss': None, 'generations': 0, 'dataset_names': ['cycle_weather_by_day_duration_avg.csv'], 'artifact_names': None, 'model_name': 'Total Rides_model020190421104244', 'job_error': None}\n",
      "{'status': 'Failed', 'starttime': '2019-04-21T10:43:04.365298', 'endtime': '2019-04-21T10:43:04.550275', 'percent_complete': 100, 'job_type': 'TrainModel', 'loss': None, 'generations': 0, 'dataset_names': ['cycle_weather_by_day_duration_avg.csv'], 'artifact_names': None, 'model_name': 'Total Rides_model020190421104244', 'job_error': 'FailedDownload: Failed to download entity of type Object from location artifacts/20ec826a-4fc6-11e9-b56b-7f7f89ca7302_baeffe1613474188b96c320873218403/data_profiler_main'}\n"
     ]
    }
   ],
   "source": [
    "model = target + \"_model0\" + ts\n",
    "status, job_id = ds.create_model(dataset_names = DATASET_NAME, \\\n",
    "                                 model_name =  model, \\\n",
    "                                 max_train_time = '00:02')\n",
    "if status:\n",
    "    ds.wait_for_job(job_id['job_name'])\n",
    "else:\n",
    "    print(job_id)"
   ]
  },
  {
   "cell_type": "markdown",
   "metadata": {},
   "source": [
    "# Analyze Model\n",
    "Analyze model provides feature importance ranked by the model. <br> It indicates a general view of which features pose a bigger impact on the model"
   ]
  },
  {
   "cell_type": "code",
   "execution_count": 110,
   "metadata": {},
   "outputs": [
    {
     "name": "stdout",
     "output_type": "stream",
     "text": [
      "403: FORBIDDEN - {\"message\": \"Analyze model is not supported for models with an unknown type\"}\n",
      "\n"
     ]
    },
    {
     "ename": "TypeError",
     "evalue": "string indices must be integers",
     "output_type": "error",
     "traceback": [
      "\u001b[0;31m---------------------------------------------------------------------------\u001b[0m",
      "\u001b[0;31mTypeError\u001b[0m                                 Traceback (most recent call last)",
      "\u001b[0;32m<ipython-input-110-9feec7a755ba>\u001b[0m in \u001b[0;36m<module>\u001b[0;34m\u001b[0m\n\u001b[1;32m      6\u001b[0m \u001b[0;32melse\u001b[0m\u001b[0;34m:\u001b[0m\u001b[0;34m\u001b[0m\u001b[0;34m\u001b[0m\u001b[0m\n\u001b[1;32m      7\u001b[0m     \u001b[0mprint\u001b[0m\u001b[0;34m(\u001b[0m\u001b[0martifact\u001b[0m\u001b[0;34m)\u001b[0m\u001b[0;34m\u001b[0m\u001b[0;34m\u001b[0m\u001b[0m\n\u001b[0;32m----> 8\u001b[0;31m \u001b[0mstatus\u001b[0m\u001b[0;34m,\u001b[0m \u001b[0mfeature_importance\u001b[0m \u001b[0;34m=\u001b[0m \u001b[0mds\u001b[0m\u001b[0;34m.\u001b[0m\u001b[0mdownload_artifact\u001b[0m\u001b[0;34m(\u001b[0m\u001b[0martifact\u001b[0m\u001b[0;34m[\u001b[0m\u001b[0;34m'artifact_name'\u001b[0m\u001b[0;34m]\u001b[0m\u001b[0;34m)\u001b[0m\u001b[0;34m\u001b[0m\u001b[0;34m\u001b[0m\u001b[0m\n\u001b[0m",
      "\u001b[0;31mTypeError\u001b[0m: string indices must be integers"
     ]
    }
   ],
   "source": [
    "# Retrieve feature importance of built model\n",
    "status, artifact = ds.analyze_model(model)\n",
    "sleep(1)\n",
    "if status:\n",
    "    ds.wait_for_job(artifact['job_name'])\n",
    "else:\n",
    "    print(artifact)\n",
    "status, feature_importance = ds.download_artifact(artifact['artifact_name'])"
   ]
  },
  {
   "cell_type": "markdown",
   "metadata": {},
   "source": [
    "Show the 10 most important features of the model."
   ]
  },
  {
   "cell_type": "code",
   "execution_count": null,
   "metadata": {},
   "outputs": [],
   "source": [
    "feature_importance[:10]"
   ]
  },
  {
   "cell_type": "markdown",
   "metadata": {},
   "source": [
    "# Predictions\n",
    "**Perform model prediction on the the training dataset.**"
   ]
  },
  {
   "cell_type": "code",
   "execution_count": null,
   "metadata": {},
   "outputs": [],
   "source": [
    "status, artifact = ds.run_model(DATASET_NAME, model)\n",
    "sleep(1)\n",
    "ds.wait_for_job(artifact['job_name'])"
   ]
  },
  {
   "cell_type": "markdown",
   "metadata": {},
   "source": [
    "Download predictions from Darwin's server."
   ]
  },
  {
   "cell_type": "code",
   "execution_count": null,
   "metadata": {},
   "outputs": [],
   "source": [
    "status, prediction = ds.download_artifact(artifact['artifact_name'])"
   ]
  },
  {
   "cell_type": "markdown",
   "metadata": {},
   "source": [
    "Create plots comparing predictions with actual target"
   ]
  },
  {
   "cell_type": "code",
   "execution_count": null,
   "metadata": {},
   "outputs": [],
   "source": [
    "#Plot predictions vs actual\n",
    "plt.plot(df[target], prediction[target], '.')\n",
    "plt.plot([0,200],[0,200],'--k')\n",
    "print('R^2 : ', r2_score(df[target], prediction[target]))"
   ]
  },
  {
   "cell_type": "code",
   "execution_count": null,
   "metadata": {},
   "outputs": [],
   "source": [
    "status, model_type = ds.lookup_model_name(model)\n",
    "print(model_type['description']['best_genome'])"
   ]
  },
  {
   "cell_type": "code",
   "execution_count": null,
   "metadata": {},
   "outputs": [],
   "source": [
    "ds.delete_model(model)"
   ]
  },
  {
   "cell_type": "code",
   "execution_count": null,
   "metadata": {},
   "outputs": [],
   "source": [
    "#ds.lookup_job_status_name(analyze_id['job_name'])"
   ]
  },
  {
   "cell_type": "code",
   "execution_count": null,
   "metadata": {},
   "outputs": [],
   "source": []
  }
 ],
 "metadata": {
  "kernelspec": {
   "display_name": "CS_329E",
   "language": "python",
   "name": "cs_329e"
  },
  "language_info": {
   "codemirror_mode": {
    "name": "ipython",
    "version": 3
   },
   "file_extension": ".py",
   "mimetype": "text/x-python",
   "name": "python",
   "nbconvert_exporter": "python",
   "pygments_lexer": "ipython3",
   "version": "3.7.2"
  }
 },
 "nbformat": 4,
 "nbformat_minor": 2
}
